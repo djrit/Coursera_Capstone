{
 "cells": [
  {
   "cell_type": "markdown",
   "metadata": {},
   "source": [
    "# \"The Battle of the Neighborhoods\"\n",
    "### Applied Data Science Capstone Project\n",
    "<hr>"
   ]
  },
  {
   "cell_type": "markdown",
   "metadata": {},
   "source": [
    "## Table of contents\n",
    "* [Introduction/Business Problem](#introduction)\n",
    "* [Data](#data)\n",
    "* [Methodology](#methodology)\n",
    "* [Results](#results)\n",
    "* [Discussion](#discussion)\n",
    "* [Conclusion](#conclusion)\n",
    "\n",
    "<hr>"
   ]
  },
  {
   "cell_type": "markdown",
   "metadata": {},
   "source": [
    "# Introduction/Business Problem <a name=\"introduction\"></a>"
   ]
  },
  {
   "cell_type": "markdown",
   "metadata": {},
   "source": [
    "##### Purpose\n",
    "This project aims to identify and prioritize improvement opportunities for neighborhood parks in Green Bay, Wisconsin, USA.\n",
    "##### Audience\n",
    "The target audience for this analysis is a community action group working toward improved elementary education outcomes for the city population. The group includes representation from the school district, local government, business community leaders, and citizen stakeholders. The group wants to know if they should pursue a park improvement initiative.\n",
    "##### Background\n",
    "Successful school outcomes are the result of a complex system of factors. Many factors are within a school's control, such as student-to-teacher ratio or highly qualified teachers. Many more factors, however, are outside a school's control, such as parent engagement, neighborhood safety, and food security. To effectively address this complex issue, a complex solution is required, with interventions applied to internal and external factors concurrently. It is unrealistic to expect a school district to create meaningful and lasting improvements to student outcomes without outside assistance addressing external factors.\n",
    "The external factor examined by this analysis is equitable access to outdoor recreational activities provided by public parks. The greenspaces and playgrounds found in public parks promote the holistic development of healthy children through physical activity, environment exploration, and unstructured, self-directed play.\n",
    "\n",
    "### Objective 1: Proof of Principle\n",
    "Based on observations made from the data, is this idea worth pursuing? The primary purpose of this analysis is to **determine whether or not to pursue a park improvement initiative.** In other words, is there any measurable relationship between school outcomes and access to parks.\n",
    "* Hypothesis 1: Quantity of nearby parks is related to higher school performance.\n",
    "* Hypothesis 2: Size of nearby parks is related to higher school performance.\n",
    "* Hypothesis 3: Specific park amenities are related to higher school performance.\n",
    "\n",
    "### Objective 2: Identify Recommendations for Action\n",
    "\n",
    "If the determination is made to pursue the initiative, which park improvements should be prioritized?\n",
    "* **Which neighborhoods** are in need of park improvement/development?\n",
    "* **What specific improvements** might provide the most benefit to park users?\n",
    "<hr>"
   ]
  },
  {
   "cell_type": "markdown",
   "metadata": {},
   "source": [
    "# Data <a name=\"data\"></a>"
   ]
  },
  {
   "cell_type": "markdown",
   "metadata": {},
   "source": [
    "To understand the current state of elementary schools in Green Bay, the following data will be pulled from the Wisconsin Department of Public Instruction (\"DPI\") website:\n",
    "* **Names and locations of elementary schools** in the Green Bay Area Public School District (\"GBAPS\").\n",
    "* **School accountability reports** from the last seven years. These reports include a variety of performance metrics. The data will be used to select neighborhoods in greatest need of intervention. This data can also be used as a target for machine learning models seeking to explain factors related to school performance.\n",
    "\n",
    "To understand the current state of parks in Green Bay, the following data will be retrieved from the Foursquare API.\n",
    "* **Names and locations of parks** in the proximity of elementary schools. Park distance from school will be a feature considered for modeling.\n",
    "* **User ratings of parks.** This will serve as a metric of park quality, another feature to be considered for modeling.\n"
   ]
  },
  {
   "cell_type": "markdown",
   "metadata": {},
   "source": [
    "## School Data\n",
    "#### Names and locations\n",
    "First I'll grab the names and locations of schools. This data is easily acquired by downloading a CSV from the DPI public data portal. Let's load the CSV into a dataframe and clean it up."
   ]
  },
  {
   "cell_type": "code",
   "execution_count": 63,
   "metadata": {},
   "outputs": [],
   "source": [
    "import pandas as pd\n",
    "import numpy as np\n",
    "\n",
    "import re\n",
    "import matplotlib as mpl\n",
    "import matplotlib.pyplot as plt\n",
    "%matplotlib inline"
   ]
  },
  {
   "cell_type": "code",
   "execution_count": 7,
   "metadata": {},
   "outputs": [
    {
     "data": {
      "text/plain": [
       "Index(['X', 'Y', 'FID', 'SCHOOL', 'DISTRICT', 'SCH_TYPE', 'LOW_GRADE',\n",
       "       'HIGH_GRADE', 'TYPE_DESC', 'SCH_CAT', 'CHARTER', 'VIRTUAL', 'FULL_ADDR',\n",
       "       'Unnamed: 13', 'STAND_ADDR', 'PHYS_COUNT', 'CESA', 'DIST_CODE',\n",
       "       'SCH_CODE', 'UNIQUE_', 'NCES_DIST', 'NCES_SCH', 'ASM', 'SEN', 'CON',\n",
       "       'Latitude', 'Longitude'],\n",
       "      dtype='object')"
      ]
     },
     "execution_count": 7,
     "metadata": {},
     "output_type": "execute_result"
    }
   ],
   "source": [
    "schools = pd.read_csv('school_list.csv')\n",
    "schools.columns"
   ]
  },
  {
   "cell_type": "markdown",
   "metadata": {},
   "source": [
    "Let's filter out the data we won't use. First, unused columns will be dropped so the dataframe is easier to look at. We will keep the columns related to school name, type, grade level, address, and geocoordinates. Second, we'll focus on dropping rows that do not contain elementary schools."
   ]
  },
  {
   "cell_type": "code",
   "execution_count": 8,
   "metadata": {},
   "outputs": [],
   "source": [
    "# Drop the columns that will not be used\n",
    "schools.drop(['X','Y','FID','DISTRICT','TYPE_DESC','SCH_CAT','CHARTER','VIRTUAL','FULL_ADDR','PHYS_COUNT','CESA','DIST_CODE','SCH_CODE','UNIQUE_','NCES_DIST','NCES_SCH','ASM','SEN','CON'], axis=1, inplace=True)\n",
    "\n",
    "# Rename remaining columns\n",
    "schools.rename(columns={'SCHOOL':'SchoolName','SCH_TYPE':'SchoolType','LOW_GRADE':'LowGrade','HIGH_GRADE':'HighGrade','STAND_ADDR':'SchoolAddress'}, inplace=True)\n",
    "\n",
    "# Since we're focusing on elementary schools, keep rows with a starting grade of 'K' and an ending grade of 5 or 8.\n",
    "# Note, K-8 schools are technically not considered elementary schools. I'll probably end up dropping them, but want to see the data first.\n",
    "#schools = schools[schools.LowGrade.str.contains('K')]\n",
    "#schools = schools[(schools.HighGrade.str.contains('5') | schools.HighGrade.str.contains('8'))]\n",
    "\n",
    "# Since we're focusing on elementary schools, only school names contained 'El' for elementary will be kept.\n",
    "schools.drop(schools.index[schools.SchoolName.str.contains('El')==False], axis=0, inplace=True)\n",
    "\n",
    "# Sort dataframe by school name and reset index\n",
    "schools = schools.sort_values('SchoolName')\n",
    "schools.reset_index(inplace=True, drop=True)\n",
    "\n",
    "# Now that the dataframe only contains elementary schools, we can drop the SchoolType variable and remove 'El' from the school names\n",
    "schools.drop(['SchoolType','Unnamed: 13'], axis=1, inplace=True)\n",
    "for i in range(0,len(schools.SchoolName)):\n",
    "    schools.at[i,'SchoolName'] = schools.at[i,'SchoolName'].replace(' El','')"
   ]
  },
  {
   "cell_type": "code",
   "execution_count": 9,
   "metadata": {},
   "outputs": [
    {
     "name": "stdout",
     "output_type": "stream",
     "text": [
      "The dataframe has 25 rows and 6 columns.\n"
     ]
    },
    {
     "data": {
      "text/html": [
       "<div>\n",
       "<style scoped>\n",
       "    .dataframe tbody tr th:only-of-type {\n",
       "        vertical-align: middle;\n",
       "    }\n",
       "\n",
       "    .dataframe tbody tr th {\n",
       "        vertical-align: top;\n",
       "    }\n",
       "\n",
       "    .dataframe thead th {\n",
       "        text-align: right;\n",
       "    }\n",
       "</style>\n",
       "<table border=\"1\" class=\"dataframe\">\n",
       "  <thead>\n",
       "    <tr style=\"text-align: right;\">\n",
       "      <th></th>\n",
       "      <th>SchoolName</th>\n",
       "      <th>LowGrade</th>\n",
       "      <th>HighGrade</th>\n",
       "      <th>SchoolAddress</th>\n",
       "      <th>Latitude</th>\n",
       "      <th>Longitude</th>\n",
       "    </tr>\n",
       "  </thead>\n",
       "  <tbody>\n",
       "    <tr>\n",
       "      <td>0</td>\n",
       "      <td>Baird</td>\n",
       "      <td>K4</td>\n",
       "      <td>5</td>\n",
       "      <td>539 Laverne Dr Green Bay, WI 54311-5720</td>\n",
       "      <td>44.510968</td>\n",
       "      <td>-87.933378</td>\n",
       "    </tr>\n",
       "    <tr>\n",
       "      <td>1</td>\n",
       "      <td>Beaumont</td>\n",
       "      <td>K4</td>\n",
       "      <td>5</td>\n",
       "      <td>1505 Gatewood St Green Bay, WI 54304-3375</td>\n",
       "      <td>44.505500</td>\n",
       "      <td>-88.051171</td>\n",
       "    </tr>\n",
       "    <tr>\n",
       "      <td>2</td>\n",
       "      <td>Chappell</td>\n",
       "      <td>K4</td>\n",
       "      <td>5</td>\n",
       "      <td>205 N Fisk St Green Bay, WI 54303-3199</td>\n",
       "      <td>44.530298</td>\n",
       "      <td>-88.054852</td>\n",
       "    </tr>\n",
       "    <tr>\n",
       "      <td>3</td>\n",
       "      <td>Danz</td>\n",
       "      <td>K4</td>\n",
       "      <td>5</td>\n",
       "      <td>2130 Basten St Green Bay, WI 54302-5398</td>\n",
       "      <td>44.508833</td>\n",
       "      <td>-87.968792</td>\n",
       "    </tr>\n",
       "    <tr>\n",
       "      <td>4</td>\n",
       "      <td>Doty</td>\n",
       "      <td>K4</td>\n",
       "      <td>5</td>\n",
       "      <td>525 Longview Ave Green Bay, WI 54301-1199</td>\n",
       "      <td>44.453509</td>\n",
       "      <td>-88.030442</td>\n",
       "    </tr>\n",
       "  </tbody>\n",
       "</table>\n",
       "</div>"
      ],
      "text/plain": [
       "  SchoolName LowGrade HighGrade                              SchoolAddress  \\\n",
       "0      Baird       K4         5    539 Laverne Dr Green Bay, WI 54311-5720   \n",
       "1   Beaumont       K4         5  1505 Gatewood St Green Bay, WI 54304-3375   \n",
       "2   Chappell       K4         5     205 N Fisk St Green Bay, WI 54303-3199   \n",
       "3       Danz       K4         5    2130 Basten St Green Bay, WI 54302-5398   \n",
       "4       Doty       K4         5  525 Longview Ave Green Bay, WI 54301-1199   \n",
       "\n",
       "    Latitude  Longitude  \n",
       "0  44.510968 -87.933378  \n",
       "1  44.505500 -88.051171  \n",
       "2  44.530298 -88.054852  \n",
       "3  44.508833 -87.968792  \n",
       "4  44.453509 -88.030442  "
      ]
     },
     "execution_count": 9,
     "metadata": {},
     "output_type": "execute_result"
    }
   ],
   "source": [
    "print(f'The dataframe has {schools.shape[0]} rows and {schools.shape[1]} columns.')\n",
    "schools.head()"
   ]
  },
  {
   "cell_type": "markdown",
   "metadata": {},
   "source": [
    "#### School accountability scores\n",
    "The next piece of school data we need are performance metrics, which the DPI reports annually in School Report Cards. After much searching through the DPI data portal, I could only find report cards shared in PDF format. I bulk-downloaded all the PDFs and scraped them to populate a dataframe using two libraries: os and pdfminer. I may share this process in a separate notebook, but for the purpose of this analysis I'm only going to import the output.\n",
    "\n",
    "*Note, the DPI did not publish school report cards for the 2014-2015 school year*"
   ]
  },
  {
   "cell_type": "code",
   "execution_count": 10,
   "metadata": {},
   "outputs": [
    {
     "name": "stdout",
     "output_type": "stream",
     "text": [
      "The dataframe has 193 rows and 7 columns.\n"
     ]
    },
    {
     "data": {
      "text/html": [
       "<div>\n",
       "<style scoped>\n",
       "    .dataframe tbody tr th:only-of-type {\n",
       "        vertical-align: middle;\n",
       "    }\n",
       "\n",
       "    .dataframe tbody tr th {\n",
       "        vertical-align: top;\n",
       "    }\n",
       "\n",
       "    .dataframe thead th {\n",
       "        text-align: right;\n",
       "    }\n",
       "</style>\n",
       "<table border=\"1\" class=\"dataframe\">\n",
       "  <thead>\n",
       "    <tr style=\"text-align: right;\">\n",
       "      <th></th>\n",
       "      <th>School</th>\n",
       "      <th>Year</th>\n",
       "      <th>Overall Score</th>\n",
       "      <th>Student Achievement</th>\n",
       "      <th>Student Growth</th>\n",
       "      <th>Closing Gaps</th>\n",
       "      <th>On-Track and Postsecondary Readiness</th>\n",
       "    </tr>\n",
       "  </thead>\n",
       "  <tbody>\n",
       "    <tr>\n",
       "      <td>0</td>\n",
       "      <td>Aldo Leopold</td>\n",
       "      <td>2011-12</td>\n",
       "      <td>74.5</td>\n",
       "      <td>71.5</td>\n",
       "      <td>74.1</td>\n",
       "      <td>63.5</td>\n",
       "      <td>89.0</td>\n",
       "    </tr>\n",
       "    <tr>\n",
       "      <td>1</td>\n",
       "      <td>Aldo Leopold</td>\n",
       "      <td>2012-13</td>\n",
       "      <td>75.3</td>\n",
       "      <td>72.6</td>\n",
       "      <td>69.6</td>\n",
       "      <td>68.3</td>\n",
       "      <td>90.6</td>\n",
       "    </tr>\n",
       "    <tr>\n",
       "      <td>2</td>\n",
       "      <td>Aldo Leopold</td>\n",
       "      <td>2013-14</td>\n",
       "      <td>77.3</td>\n",
       "      <td>72.1</td>\n",
       "      <td>71.7</td>\n",
       "      <td>75.6</td>\n",
       "      <td>89.9</td>\n",
       "    </tr>\n",
       "    <tr>\n",
       "      <td>3</td>\n",
       "      <td>Aldo Leopold</td>\n",
       "      <td>2015-16</td>\n",
       "      <td>66.0</td>\n",
       "      <td>70.6</td>\n",
       "      <td>37.5</td>\n",
       "      <td>66.5</td>\n",
       "      <td>89.0</td>\n",
       "    </tr>\n",
       "    <tr>\n",
       "      <td>4</td>\n",
       "      <td>Aldo Leopold</td>\n",
       "      <td>2016-17</td>\n",
       "      <td>70.3</td>\n",
       "      <td>66.3</td>\n",
       "      <td>61.3</td>\n",
       "      <td>64.8</td>\n",
       "      <td>88.0</td>\n",
       "    </tr>\n",
       "  </tbody>\n",
       "</table>\n",
       "</div>"
      ],
      "text/plain": [
       "         School     Year  Overall Score  Student Achievement  Student Growth  \\\n",
       "0  Aldo Leopold  2011-12           74.5                 71.5            74.1   \n",
       "1  Aldo Leopold  2012-13           75.3                 72.6            69.6   \n",
       "2  Aldo Leopold  2013-14           77.3                 72.1            71.7   \n",
       "3  Aldo Leopold  2015-16           66.0                 70.6            37.5   \n",
       "4  Aldo Leopold  2016-17           70.3                 66.3            61.3   \n",
       "\n",
       "   Closing Gaps  On-Track and Postsecondary Readiness  \n",
       "0          63.5                                  89.0  \n",
       "1          68.3                                  90.6  \n",
       "2          75.6                                  89.9  \n",
       "3          66.5                                  89.0  \n",
       "4          64.8                                  88.0  "
      ]
     },
     "execution_count": 10,
     "metadata": {},
     "output_type": "execute_result"
    }
   ],
   "source": [
    "school_scores = pd.read_csv('school_report_cards.csv')\n",
    "print(f'The dataframe has {school_scores.shape[0]} rows and {school_scores.shape[1]} columns.')\n",
    "school_scores.head()"
   ]
  },
  {
   "cell_type": "markdown",
   "metadata": {},
   "source": [
    "After looking through the year-to-year trends for several schools, I see a school's overall score can change quite a bit. I will use the mean of a school's overall scores for the purpose of comparing schools."
   ]
  },
  {
   "cell_type": "code",
   "execution_count": 11,
   "metadata": {},
   "outputs": [],
   "source": [
    "avg_scores=[]\n",
    "\n",
    "# Loop through the list of schools, get average of yearly Overall Scores, add the average score to the 'schools' dataframe\n",
    "for school in list(schools.SchoolName.unique()):\n",
    "    average_score = school_scores['Overall Score'][school_scores['School']==school].mean()\n",
    "    avg_scores.append(average_score)\n",
    "\n",
    "schools['AvgOverallScore'] = avg_scores"
   ]
  },
  {
   "cell_type": "code",
   "execution_count": 12,
   "metadata": {},
   "outputs": [],
   "source": [
    "import folium, geocoder\n",
    "import matplotlib.cm as cm\n",
    "import matplotlib.colors as colors"
   ]
  },
  {
   "cell_type": "code",
   "execution_count": 13,
   "metadata": {},
   "outputs": [],
   "source": [
    "def coordinates(address):\n",
    "    coords = None\n",
    "    while (coords is None):\n",
    "        g = geocoder.arcgis(address)\n",
    "        coords = g.latlng   \n",
    "    return coords"
   ]
  },
  {
   "cell_type": "markdown",
   "metadata": {},
   "source": [
    "Let's plot the schools on a map, applying a gradient color coding. The highest performing schools will plotted in green and the lowest performing schools will be plotted in red."
   ]
  },
  {
   "cell_type": "code",
   "execution_count": 14,
   "metadata": {},
   "outputs": [
    {
     "data": {
      "text/html": [
       "<div style=\"width:100%;\"><div style=\"position:relative;width:100%;height:0;padding-bottom:60%;\"><iframe src=\"about:blank\" style=\"position:absolute;width:100%;height:100%;left:0;top:0;border:none !important;\" data-html=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 onload=\"this.contentDocument.open();this.contentDocument.write(atob(this.getAttribute('data-html')));this.contentDocument.close();\" allowfullscreen webkitallowfullscreen mozallowfullscreen></iframe></div></div>"
      ],
      "text/plain": [
       "<folium.folium.Map at 0x1bd22de43c8>"
      ]
     },
     "execution_count": 14,
     "metadata": {},
     "output_type": "execute_result"
    }
   ],
   "source": [
    "schools = schools.sort_values('AvgOverallScore')\n",
    "\n",
    "num_splits = schools.shape[0]*2\n",
    "x = np.arange(num_splits)\n",
    "ys = [i + x + (i*x)**2 for i in range(num_splits)]\n",
    "colors_array = cm.gist_rainbow(np.linspace(0, 1, len(ys)))\n",
    "hex_colors_array = [colors.rgb2hex(i) for i in colors_array]\n",
    "\n",
    "schools['MarkerColor'] = hex_colors_array[0:schools.shape[0]]\n",
    "\n",
    "map = folium.Map(location=coordinates('Green Bay, WI'), zoom_start=12, tiles='Stamen Toner')\n",
    "for i,row in schools.iterrows():\n",
    "    folium.CircleMarker((row['Latitude'],row['Longitude']),\n",
    "                         radius=15,\n",
    "                         color=row['MarkerColor'],\n",
    "                         fill=True,\n",
    "                         alpha=1,\n",
    "                        popup=str(row['SchoolName']+': '+str(round(row['AvgOverallScore'],1)))).add_to(map)\n",
    "map"
   ]
  },
  {
   "cell_type": "markdown",
   "metadata": {},
   "source": [
    "Upon visual inspection, there appears to be a trend of decreasing scores for schools closer to the center of the city. In addition, poverty levels and crime rates tend to rise in neighborhoods closer to the center of the city. These two factors likely have an impact on students' school performance."
   ]
  },
  {
   "cell_type": "markdown",
   "metadata": {},
   "source": [
    "## Park Data\n",
    "#### Names, Locations and Ratings\n",
    "First, we'll use the Foursquare API to locate parks in the vicinity of each school. The following functions will be created to perform this task:\n",
    "* Use Foursquare API to find venues near each school matching search term \"Park\"\n",
    "* Use Foursquare API to confirm venue category is a park, and does not just have \"Park\" in the name\n",
    "* Calculate distance between park and school\n",
    "* Use Foursquare API to get rating of park\n"
   ]
  },
  {
   "cell_type": "code",
   "execution_count": 15,
   "metadata": {},
   "outputs": [],
   "source": [
    "# Import libraries for this step\n",
    "import requests\n",
    "from pandas.io.json import json_normalize\n",
    "from sklearn.metrics.pairwise import haversine_distances\n",
    "from math import radians"
   ]
  },
  {
   "cell_type": "code",
   "execution_count": 16,
   "metadata": {},
   "outputs": [],
   "source": [
    "# Define API credentials\n",
    "CLIENT_ID = # deleted for sharing notebook\n",
    "CLIENT_SECRET = # deleted for sharing notebook\n",
    "VERSION = '20180604'"
   ]
  },
  {
   "cell_type": "markdown",
   "metadata": {},
   "source": [
    "I'll borrow this function from the previous lab to get venue categories."
   ]
  },
  {
   "cell_type": "code",
   "execution_count": 17,
   "metadata": {},
   "outputs": [],
   "source": [
    "# function that extracts the category of the venue\n",
    "def get_category_type(row):\n",
    "    try:\n",
    "        categories_list = row['categories']\n",
    "    except:\n",
    "        categories_list = row['venue.categories']\n",
    "        \n",
    "    if len(categories_list) == 0:\n",
    "        return None\n",
    "    else:\n",
    "        return categories_list[0]['name']"
   ]
  },
  {
   "cell_type": "code",
   "execution_count": 18,
   "metadata": {},
   "outputs": [],
   "source": [
    "# This line of code will stop displaying a warning message I was getting\n",
    "pd.options.mode.chained_assignment = None  # default='warn'"
   ]
  },
  {
   "cell_type": "markdown",
   "metadata": {},
   "source": [
    "This function will calculate distance between parks and schools."
   ]
  },
  {
   "cell_type": "code",
   "execution_count": 19,
   "metadata": {},
   "outputs": [],
   "source": [
    "# function that finds distance between two points on a sphere\n",
    "# function adapted from scikit-learn documentation\n",
    "\n",
    "def calculate_distance(loc1,loc2):\n",
    "    loc1_in_radians = [radians(_) for _ in loc1]\n",
    "    loc2_in_radians = [radians(_) for _ in loc2]\n",
    "    result = haversine_distances([loc1_in_radians, loc2_in_radians])[1][0]\n",
    "    \n",
    "    return result * 6371000  # multiply by Earth radius to get meters"
   ]
  },
  {
   "cell_type": "markdown",
   "metadata": {},
   "source": [
    "This function will look up park rating."
   ]
  },
  {
   "cell_type": "code",
   "execution_count": 20,
   "metadata": {},
   "outputs": [],
   "source": [
    "# function that gets rating from venue details\n",
    "\n",
    "def get_rating(venue_id):\n",
    "    url = 'https://api.foursquare.com/v2/venues/{}?client_id={}&client_secret={}&v={}'.format(venue_id, CLIENT_ID, CLIENT_SECRET, VERSION)\n",
    "    result = requests.get(url).json()\n",
    "    try:\n",
    "        rating = result['response']['venue']['rating']\n",
    "    except:\n",
    "        rating = 'no rating'\n",
    "    return rating"
   ]
  },
  {
   "cell_type": "markdown",
   "metadata": {},
   "source": [
    "This function will look up parks and put them into a dataframe."
   ]
  },
  {
   "cell_type": "code",
   "execution_count": 21,
   "metadata": {},
   "outputs": [],
   "source": [
    "def get_parks(df,index):\n",
    "    search_query = 'Park'\n",
    "    radius = 1000\n",
    "    LIMIT=20\n",
    "    lat,lng = list(df.loc[index][['Latitude','Longitude']])\n",
    "    url = 'https://api.foursquare.com/v2/venues/search?client_id={}&client_secret={}&ll={},{}&v={}&query={}&radius={}&limit={}'.format(CLIENT_ID, CLIENT_SECRET, lat, lng, VERSION, search_query, radius, LIMIT)\n",
    "    school = df.loc[index]['SchoolName']\n",
    "\n",
    "    # send the GET request\n",
    "    results = requests.get(url).json()\n",
    "    \n",
    "    venues = results['response']['venues']\n",
    "        \n",
    "    nearby_parks = json_normalize(venues) # flatten JSON\n",
    "    \n",
    "    # filter columns\n",
    "    filtered_columns = ['id','name', 'categories', 'location.lat', 'location.lng']\n",
    "    #nearby_parks =nearby_parks.loc[:, filtered_columns]\n",
    "    try:\n",
    "        nearby_parks = nearby_parks[filtered_columns]\n",
    "    except:\n",
    "        print(f'0 parks found near {school}.')\n",
    "        return None\n",
    "\n",
    "    # filter the category for each row\n",
    "    nearby_parks['categories'] = nearby_parks.apply(get_category_type, axis=1)\n",
    "    \n",
    "    # clean columns\n",
    "    #nearby_parks.columns = [col.split(\".\")[-1] for col in nearby_parks.columns]\n",
    "    \n",
    "    # remove venues that are not parks\n",
    "    nearby_parks = nearby_parks[nearby_parks['categories']=='Park']\n",
    "    \n",
    "    print(f'{nearby_parks.shape[0]} parks found near {school}.')\n",
    "\n",
    "    nearby_parks['NearSchool'] = school\n",
    "    nearby_parks['Distance'] = 0\n",
    "    nearby_parks['Rating'] = 0\n",
    "    for i,row in nearby_parks.iterrows():\n",
    "        nearby_parks.at[[i],['Distance']] = calculate_distance([lat,lng], [nearby_parks.loc[i]['location.lat'],nearby_parks.loc[i]['location.lng']])\n",
    "        nearby_parks.at[[i],['Rating']] = get_rating(nearby_parks.loc[i]['id'])\n",
    "    \n",
    "\n",
    "    return nearby_parks"
   ]
  },
  {
   "cell_type": "markdown",
   "metadata": {},
   "source": [
    "Now that all the functions are defined, we can run through the list of schools and search for parks."
   ]
  },
  {
   "cell_type": "code",
   "execution_count": 22,
   "metadata": {},
   "outputs": [
    {
     "name": "stdout",
     "output_type": "stream",
     "text": [
      "7 parks found near Howe.\n",
      "1 parks found near Eisenhower.\n",
      "5 parks found near Nicolet.\n",
      "5 parks found near Sullivan.\n",
      "3 parks found near Jefferson.\n",
      "1 parks found near Danz.\n",
      "6 parks found near Fort Howard.\n",
      "0 parks found near Lincoln.\n",
      "1 parks found near Elmore.\n",
      "2 parks found near Keller.\n",
      "0 parks found near Doty.\n",
      "2 parks found near Chappell.\n",
      "1 parks found near Martin.\n",
      "2 parks found near Baird.\n",
      "1 parks found near Beaumont.\n",
      "2 parks found near Tank.\n",
      "3 parks found near Jackson.\n",
      "0 parks found near King.\n",
      "1 parks found near Wilder.\n",
      "2 parks found near Webster.\n",
      "4 parks found near Kennedy.\n",
      "1 parks found near Langlade.\n",
      "0 parks found near Wequiock.\n",
      "2 parks found near MacArthur.\n",
      "1 parks found near McAuliffe.\n"
     ]
    }
   ],
   "source": [
    "parks = pd.DataFrame(columns=['id','name','categories','location.lat','location.lng','NearSchool','Distance','Rating'])\n",
    "for row in schools.index:\n",
    "    df = get_parks(schools,row)\n",
    "    parks = parks.append(df)"
   ]
  },
  {
   "cell_type": "markdown",
   "metadata": {},
   "source": [
    "I'm going to edit the column names so that I have a consistent style throughout all dataframes."
   ]
  },
  {
   "cell_type": "code",
   "execution_count": 23,
   "metadata": {},
   "outputs": [],
   "source": [
    "parks.rename(columns={'id':'ParkId','categories':'Category','name':'ParkName','location.lat':'ParkLatitude','location.lng':'ParkLongitude'}, inplace=True)\n",
    "parks.reset_index(drop=True, inplace=True)"
   ]
  },
  {
   "cell_type": "markdown",
   "metadata": {},
   "source": [
    "Interesting, there appear to be lots of parks near the low-scoring schools, such as Howe, Nicolet and Sullivan. Let's inspect the park data to look for other trends."
   ]
  },
  {
   "cell_type": "code",
   "execution_count": 24,
   "metadata": {},
   "outputs": [
    {
     "data": {
      "text/html": [
       "<div>\n",
       "<style scoped>\n",
       "    .dataframe tbody tr th:only-of-type {\n",
       "        vertical-align: middle;\n",
       "    }\n",
       "\n",
       "    .dataframe tbody tr th {\n",
       "        vertical-align: top;\n",
       "    }\n",
       "\n",
       "    .dataframe thead th {\n",
       "        text-align: right;\n",
       "    }\n",
       "</style>\n",
       "<table border=\"1\" class=\"dataframe\">\n",
       "  <thead>\n",
       "    <tr style=\"text-align: right;\">\n",
       "      <th></th>\n",
       "      <th>ParkId</th>\n",
       "      <th>ParkName</th>\n",
       "      <th>Category</th>\n",
       "      <th>ParkLatitude</th>\n",
       "      <th>ParkLongitude</th>\n",
       "      <th>NearSchool</th>\n",
       "      <th>Distance</th>\n",
       "      <th>Rating</th>\n",
       "    </tr>\n",
       "  </thead>\n",
       "  <tbody>\n",
       "    <tr>\n",
       "      <td>count</td>\n",
       "      <td>53</td>\n",
       "      <td>53</td>\n",
       "      <td>53</td>\n",
       "      <td>53.000000</td>\n",
       "      <td>53.000000</td>\n",
       "      <td>53</td>\n",
       "      <td>53.000000</td>\n",
       "      <td>53</td>\n",
       "    </tr>\n",
       "    <tr>\n",
       "      <td>unique</td>\n",
       "      <td>39</td>\n",
       "      <td>38</td>\n",
       "      <td>1</td>\n",
       "      <td>NaN</td>\n",
       "      <td>NaN</td>\n",
       "      <td>21</td>\n",
       "      <td>NaN</td>\n",
       "      <td>7</td>\n",
       "    </tr>\n",
       "    <tr>\n",
       "      <td>top</td>\n",
       "      <td>5016dddee4b0c3d592c0acb0</td>\n",
       "      <td>John Muir Park</td>\n",
       "      <td>Park</td>\n",
       "      <td>NaN</td>\n",
       "      <td>NaN</td>\n",
       "      <td>Howe</td>\n",
       "      <td>NaN</td>\n",
       "      <td>no rating</td>\n",
       "    </tr>\n",
       "    <tr>\n",
       "      <td>freq</td>\n",
       "      <td>3</td>\n",
       "      <td>4</td>\n",
       "      <td>53</td>\n",
       "      <td>NaN</td>\n",
       "      <td>NaN</td>\n",
       "      <td>7</td>\n",
       "      <td>NaN</td>\n",
       "      <td>46</td>\n",
       "    </tr>\n",
       "    <tr>\n",
       "      <td>mean</td>\n",
       "      <td>NaN</td>\n",
       "      <td>NaN</td>\n",
       "      <td>NaN</td>\n",
       "      <td>44.510109</td>\n",
       "      <td>-88.018203</td>\n",
       "      <td>NaN</td>\n",
       "      <td>704.104393</td>\n",
       "      <td>NaN</td>\n",
       "    </tr>\n",
       "    <tr>\n",
       "      <td>std</td>\n",
       "      <td>NaN</td>\n",
       "      <td>NaN</td>\n",
       "      <td>NaN</td>\n",
       "      <td>0.015584</td>\n",
       "      <td>0.038214</td>\n",
       "      <td>NaN</td>\n",
       "      <td>352.888846</td>\n",
       "      <td>NaN</td>\n",
       "    </tr>\n",
       "    <tr>\n",
       "      <td>min</td>\n",
       "      <td>NaN</td>\n",
       "      <td>NaN</td>\n",
       "      <td>NaN</td>\n",
       "      <td>44.461471</td>\n",
       "      <td>-88.087044</td>\n",
       "      <td>NaN</td>\n",
       "      <td>64.233380</td>\n",
       "      <td>NaN</td>\n",
       "    </tr>\n",
       "    <tr>\n",
       "      <td>25%</td>\n",
       "      <td>NaN</td>\n",
       "      <td>NaN</td>\n",
       "      <td>NaN</td>\n",
       "      <td>44.502340</td>\n",
       "      <td>-88.050848</td>\n",
       "      <td>NaN</td>\n",
       "      <td>442.216296</td>\n",
       "      <td>NaN</td>\n",
       "    </tr>\n",
       "    <tr>\n",
       "      <td>50%</td>\n",
       "      <td>NaN</td>\n",
       "      <td>NaN</td>\n",
       "      <td>NaN</td>\n",
       "      <td>44.510584</td>\n",
       "      <td>-88.017159</td>\n",
       "      <td>NaN</td>\n",
       "      <td>732.769761</td>\n",
       "      <td>NaN</td>\n",
       "    </tr>\n",
       "    <tr>\n",
       "      <td>75%</td>\n",
       "      <td>NaN</td>\n",
       "      <td>NaN</td>\n",
       "      <td>NaN</td>\n",
       "      <td>44.519090</td>\n",
       "      <td>-87.995321</td>\n",
       "      <td>NaN</td>\n",
       "      <td>1000.347448</td>\n",
       "      <td>NaN</td>\n",
       "    </tr>\n",
       "    <tr>\n",
       "      <td>max</td>\n",
       "      <td>NaN</td>\n",
       "      <td>NaN</td>\n",
       "      <td>NaN</td>\n",
       "      <td>44.545891</td>\n",
       "      <td>-87.932667</td>\n",
       "      <td>NaN</td>\n",
       "      <td>1399.410296</td>\n",
       "      <td>NaN</td>\n",
       "    </tr>\n",
       "  </tbody>\n",
       "</table>\n",
       "</div>"
      ],
      "text/plain": [
       "                          ParkId        ParkName Category  ParkLatitude  \\\n",
       "count                         53              53       53     53.000000   \n",
       "unique                        39              38        1           NaN   \n",
       "top     5016dddee4b0c3d592c0acb0  John Muir Park     Park           NaN   \n",
       "freq                           3               4       53           NaN   \n",
       "mean                         NaN             NaN      NaN     44.510109   \n",
       "std                          NaN             NaN      NaN      0.015584   \n",
       "min                          NaN             NaN      NaN     44.461471   \n",
       "25%                          NaN             NaN      NaN     44.502340   \n",
       "50%                          NaN             NaN      NaN     44.510584   \n",
       "75%                          NaN             NaN      NaN     44.519090   \n",
       "max                          NaN             NaN      NaN     44.545891   \n",
       "\n",
       "        ParkLongitude NearSchool     Distance     Rating  \n",
       "count       53.000000         53    53.000000         53  \n",
       "unique            NaN         21          NaN          7  \n",
       "top               NaN       Howe          NaN  no rating  \n",
       "freq              NaN          7          NaN         46  \n",
       "mean       -88.018203        NaN   704.104393        NaN  \n",
       "std          0.038214        NaN   352.888846        NaN  \n",
       "min        -88.087044        NaN    64.233380        NaN  \n",
       "25%        -88.050848        NaN   442.216296        NaN  \n",
       "50%        -88.017159        NaN   732.769761        NaN  \n",
       "75%        -87.995321        NaN  1000.347448        NaN  \n",
       "max        -87.932667        NaN  1399.410296        NaN  "
      ]
     },
     "execution_count": 24,
     "metadata": {},
     "output_type": "execute_result"
    }
   ],
   "source": [
    "parks.describe(include='all')"
   ]
  },
  {
   "cell_type": "markdown",
   "metadata": {},
   "source": [
    "I see a few things that will need to be cleaned up during the next week. \n",
    "* There are more IDs than Names, probably meaning some parks are duplicated in the Foursquare database. Duplicates will need to be removed\n",
    "* Howe, the lowest scoring school, has the most parks. Will this still be true once duplicates are removed?\n",
    "* 46 parks do not have a rating. This feature won't work for modeling."
   ]
  },
  {
   "cell_type": "markdown",
   "metadata": {},
   "source": [
    "Since most parks are not rated, I'll need to look elsewhere for data describing park characteristics. The Green Bay Department of Parks, Recreation and Forestry website will have more information. To keep this notebook from getting too long, I'll create a separate notebook to write a function using BeautifulSoup to scrape the website, and upload the results into this notebook."
   ]
  },
  {
   "cell_type": "code",
   "execution_count": 25,
   "metadata": {},
   "outputs": [],
   "source": [
    "parks = pd.read_csv('parks_scrape_2.csv')"
   ]
  },
  {
   "cell_type": "code",
   "execution_count": 26,
   "metadata": {},
   "outputs": [],
   "source": [
    "# This unnamed column can be dropped. It was the index of the dataframe that I exported to a csv\n",
    "parks.drop(['Unnamed: 0'],axis=1, inplace=True)"
   ]
  },
  {
   "cell_type": "code",
   "execution_count": 27,
   "metadata": {},
   "outputs": [],
   "source": [
    "# These columns are left over from scraping and not needed, so I'll drop them too\n",
    "parks.drop(['ParkURL','ParkAddress'], axis=1, inplace=True)"
   ]
  },
  {
   "cell_type": "markdown",
   "metadata": {},
   "source": [
    "Here is the map again with schools color-coded according to performance scores. This time parks are also included, represented by small purple dots."
   ]
  },
  {
   "cell_type": "code",
   "execution_count": 28,
   "metadata": {},
   "outputs": [
    {
     "data": {
      "text/html": [
       "<div style=\"width:100%;\"><div style=\"position:relative;width:100%;height:0;padding-bottom:60%;\"><iframe src=\"about:blank\" style=\"position:absolute;width:100%;height:100%;left:0;top:0;border:none !important;\" data-html=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 onload=\"this.contentDocument.open();this.contentDocument.write(atob(this.getAttribute('data-html')));this.contentDocument.close();\" allowfullscreen webkitallowfullscreen mozallowfullscreen></iframe></div></div>"
      ],
      "text/plain": [
       "<folium.folium.Map at 0x1bd253218c8>"
      ]
     },
     "execution_count": 28,
     "metadata": {},
     "output_type": "execute_result"
    }
   ],
   "source": [
    "map = folium.Map(location=coordinates('Green Bay, WI'), zoom_start=12, tiles='Stamen Toner')\n",
    "for i,row in schools.iterrows():\n",
    "    folium.CircleMarker((row['Latitude'],row['Longitude']),\n",
    "                         radius=15,\n",
    "                         color=row['MarkerColor'],\n",
    "                         fill=True,\n",
    "                         alpha=1,\n",
    "                        popup=str(row['SchoolName']+': '+str(round(row['AvgOverallScore'],1)))).add_to(map)\n",
    "for i,row in parks.iterrows():\n",
    "    folium.CircleMarker((row['ParkLatitude'],row['ParkLongitude']),\n",
    "                        radius=5,\n",
    "                        color='purple',\n",
    "                        fill=True,\n",
    "                        alpha=1,\n",
    "                        popup=str('Park: '+row['ParkName']+' / Acreage: '+str(row['ParkAcreage']))).add_to(map)\n",
    "map"
   ]
  },
  {
   "cell_type": "markdown",
   "metadata": {},
   "source": [
    "There are just a few more steps I want to complete before I begin selecting features for modeling. First, I'm going to calculate the distance between all parks and all schools, just to be sure all parks within one kilometer are included."
   ]
  },
  {
   "cell_type": "code",
   "execution_count": 29,
   "metadata": {},
   "outputs": [],
   "source": [
    "for i,row in parks.iterrows():\n",
    "    park_loc = row[['ParkLatitude','ParkLongitude']]\n",
    "    park = row['ParkName']\n",
    "    for ii,rrow in schools.iterrows():\n",
    "        school = rrow['SchoolName']\n",
    "        school_loc = rrow[['Latitude','Longitude']]\n",
    "        dist = calculate_distance(park_loc,school_loc)\n",
    "        parks.at[i,school]=dist"
   ]
  },
  {
   "cell_type": "markdown",
   "metadata": {},
   "source": [
    "From the Department of Parks and Rec website I was able to learn which amenities are available at each park. Below is a plot of the total number of each type of park amenity. *(Note: some parks have multiple instances of an amenity.)*"
   ]
  },
  {
   "cell_type": "code",
   "execution_count": 46,
   "metadata": {},
   "outputs": [
    {
     "data": {
      "image/png": "[encoded data removed]",
      "text/plain": [
       "<Figure size 360x576 with 1 Axes>"
      ]
     },
     "metadata": {
      "needs_background": "light"
     },
     "output_type": "display_data"
    }
   ],
   "source": [
    "amenities = list(parks.columns[4:29])\n",
    "amenity_count = parks[amenities].sum().sort_values()\n",
    "plt.figure(figsize=(5,8))\n",
    "plt.barh(amenity_count.index,amenity_count)\n",
    "plt.title('Total Number of Amenities at Green Bay Parks')\n",
    "plt.show()"
   ]
  },
  {
   "cell_type": "markdown",
   "metadata": {},
   "source": [
    "### At last!\n",
    "I have all the data I need to perform some analysis. Using the \"parks\" dataframe, I'll add the following features to the \"schools\" dataframe:\n",
    "* Total number of parks within 1 kilometer of school\n",
    "* Total park acreage within 1 kilometer of school\n",
    "* Average acreage per park with 1 kilometer of school\n",
    "* Average distance from school to parks within 1 kilometer of school\n",
    "* Total number of each amenity within 1 kilometer of school"
   ]
  },
  {
   "cell_type": "code",
   "execution_count": 32,
   "metadata": {},
   "outputs": [],
   "source": [
    "# First, I'll drop a few more columns that are no longer needed.\n",
    "schools.drop(['LowGrade','HighGrade','SchoolAddress'], axis=1, inplace=True)"
   ]
  },
  {
   "cell_type": "code",
   "execution_count": 47,
   "metadata": {},
   "outputs": [],
   "source": [
    "for i,row in schools.iterrows():\n",
    "    school = row['SchoolName']\n",
    "    schools.at[i, 'NearbyParks'] = parks['ParkName'][parks[school]<1000].count()\n",
    "    schools.at[i, 'TotalNearbyAcreage'] = parks['ParkAcreage'][parks[school]<1000].sum()\n",
    "    schools.at[i, 'AvgNearbyAcreage'] = parks['ParkAcreage'][parks[school]<1000].mean()\n",
    "    schools.at[i, 'AvgNearbyParkDistance'] = parks[school][parks[school]<1000].mean()\n",
    "    for amenity in amenities:\n",
    "        schools.at[i, amenity] = parks[amenity][parks[school]<1000].sum()"
   ]
  },
  {
   "cell_type": "code",
   "execution_count": 191,
   "metadata": {},
   "outputs": [],
   "source": [
    "#for column in schools.columns:\n",
    " #   schools[column] = np.nan_to_num(schools[column])"
   ]
  },
  {
   "cell_type": "code",
   "execution_count": 49,
   "metadata": {},
   "outputs": [
    {
     "data": {
      "text/html": [
       "<div>\n",
       "<style scoped>\n",
       "    .dataframe tbody tr th:only-of-type {\n",
       "        vertical-align: middle;\n",
       "    }\n",
       "\n",
       "    .dataframe tbody tr th {\n",
       "        vertical-align: top;\n",
       "    }\n",
       "\n",
       "    .dataframe thead th {\n",
       "        text-align: right;\n",
       "    }\n",
       "</style>\n",
       "<table border=\"1\" class=\"dataframe\">\n",
       "  <thead>\n",
       "    <tr style=\"text-align: right;\">\n",
       "      <th></th>\n",
       "      <th>AvgOverallScore</th>\n",
       "      <th>NearbyParks</th>\n",
       "      <th>TotalNearbyAcreage</th>\n",
       "      <th>AvgNearbyAcreage</th>\n",
       "      <th>AvgNearbyParkDistance</th>\n",
       "      <th>Basketball</th>\n",
       "      <th>NatureWalkingTrail</th>\n",
       "      <th>PicnicArea</th>\n",
       "      <th>Playground</th>\n",
       "      <th>Soccer</th>\n",
       "      <th>...</th>\n",
       "      <th>Sledding</th>\n",
       "      <th>WadingPool</th>\n",
       "      <th>HockeyRink</th>\n",
       "      <th>CommunityGarden</th>\n",
       "      <th>Canoe/KayakLaunch</th>\n",
       "      <th>Baseball</th>\n",
       "      <th>Bocce</th>\n",
       "      <th>ShoreFishing</th>\n",
       "      <th>DiscGolf</th>\n",
       "      <th>Stage</th>\n",
       "    </tr>\n",
       "  </thead>\n",
       "  <tbody>\n",
       "    <tr>\n",
       "      <td>count</td>\n",
       "      <td>25.000000</td>\n",
       "      <td>25.000000</td>\n",
       "      <td>25.000000</td>\n",
       "      <td>24.000000</td>\n",
       "      <td>24.000000</td>\n",
       "      <td>25.000000</td>\n",
       "      <td>25.000000</td>\n",
       "      <td>25.000000</td>\n",
       "      <td>25.000000</td>\n",
       "      <td>25.000000</td>\n",
       "      <td>...</td>\n",
       "      <td>25.000000</td>\n",
       "      <td>25.000000</td>\n",
       "      <td>25.000000</td>\n",
       "      <td>25.00</td>\n",
       "      <td>25.00</td>\n",
       "      <td>25.000000</td>\n",
       "      <td>25.00</td>\n",
       "      <td>25.000000</td>\n",
       "      <td>25.00</td>\n",
       "      <td>25.00</td>\n",
       "    </tr>\n",
       "    <tr>\n",
       "      <td>mean</td>\n",
       "      <td>67.314857</td>\n",
       "      <td>2.320000</td>\n",
       "      <td>30.666800</td>\n",
       "      <td>17.060951</td>\n",
       "      <td>533.369118</td>\n",
       "      <td>1.840000</td>\n",
       "      <td>0.720000</td>\n",
       "      <td>2.080000</td>\n",
       "      <td>2.120000</td>\n",
       "      <td>1.240000</td>\n",
       "      <td>...</td>\n",
       "      <td>0.120000</td>\n",
       "      <td>0.080000</td>\n",
       "      <td>0.120000</td>\n",
       "      <td>0.04</td>\n",
       "      <td>0.04</td>\n",
       "      <td>1.800000</td>\n",
       "      <td>0.04</td>\n",
       "      <td>0.080000</td>\n",
       "      <td>0.04</td>\n",
       "      <td>0.04</td>\n",
       "    </tr>\n",
       "    <tr>\n",
       "      <td>std</td>\n",
       "      <td>7.059267</td>\n",
       "      <td>1.676305</td>\n",
       "      <td>23.610393</td>\n",
       "      <td>14.323788</td>\n",
       "      <td>197.348611</td>\n",
       "      <td>1.312758</td>\n",
       "      <td>0.979796</td>\n",
       "      <td>1.497776</td>\n",
       "      <td>1.363818</td>\n",
       "      <td>1.640122</td>\n",
       "      <td>...</td>\n",
       "      <td>0.331662</td>\n",
       "      <td>0.276887</td>\n",
       "      <td>0.331662</td>\n",
       "      <td>0.20</td>\n",
       "      <td>0.20</td>\n",
       "      <td>1.779513</td>\n",
       "      <td>0.20</td>\n",
       "      <td>0.276887</td>\n",
       "      <td>0.20</td>\n",
       "      <td>0.20</td>\n",
       "    </tr>\n",
       "    <tr>\n",
       "      <td>min</td>\n",
       "      <td>53.614286</td>\n",
       "      <td>0.000000</td>\n",
       "      <td>0.000000</td>\n",
       "      <td>2.241667</td>\n",
       "      <td>137.628556</td>\n",
       "      <td>0.000000</td>\n",
       "      <td>0.000000</td>\n",
       "      <td>0.000000</td>\n",
       "      <td>0.000000</td>\n",
       "      <td>0.000000</td>\n",
       "      <td>...</td>\n",
       "      <td>0.000000</td>\n",
       "      <td>0.000000</td>\n",
       "      <td>0.000000</td>\n",
       "      <td>0.00</td>\n",
       "      <td>0.00</td>\n",
       "      <td>0.000000</td>\n",
       "      <td>0.00</td>\n",
       "      <td>0.000000</td>\n",
       "      <td>0.00</td>\n",
       "      <td>0.00</td>\n",
       "    </tr>\n",
       "    <tr>\n",
       "      <td>25%</td>\n",
       "      <td>64.985714</td>\n",
       "      <td>1.000000</td>\n",
       "      <td>14.140000</td>\n",
       "      <td>7.512500</td>\n",
       "      <td>439.129045</td>\n",
       "      <td>1.000000</td>\n",
       "      <td>0.000000</td>\n",
       "      <td>1.000000</td>\n",
       "      <td>1.000000</td>\n",
       "      <td>0.000000</td>\n",
       "      <td>...</td>\n",
       "      <td>0.000000</td>\n",
       "      <td>0.000000</td>\n",
       "      <td>0.000000</td>\n",
       "      <td>0.00</td>\n",
       "      <td>0.00</td>\n",
       "      <td>1.000000</td>\n",
       "      <td>0.00</td>\n",
       "      <td>0.000000</td>\n",
       "      <td>0.00</td>\n",
       "      <td>0.00</td>\n",
       "    </tr>\n",
       "    <tr>\n",
       "      <td>50%</td>\n",
       "      <td>67.914286</td>\n",
       "      <td>2.000000</td>\n",
       "      <td>21.080000</td>\n",
       "      <td>13.970000</td>\n",
       "      <td>504.379998</td>\n",
       "      <td>2.000000</td>\n",
       "      <td>1.000000</td>\n",
       "      <td>2.000000</td>\n",
       "      <td>2.000000</td>\n",
       "      <td>1.000000</td>\n",
       "      <td>...</td>\n",
       "      <td>0.000000</td>\n",
       "      <td>0.000000</td>\n",
       "      <td>0.000000</td>\n",
       "      <td>0.00</td>\n",
       "      <td>0.00</td>\n",
       "      <td>1.000000</td>\n",
       "      <td>0.00</td>\n",
       "      <td>0.000000</td>\n",
       "      <td>0.00</td>\n",
       "      <td>0.00</td>\n",
       "    </tr>\n",
       "    <tr>\n",
       "      <td>75%</td>\n",
       "      <td>70.842857</td>\n",
       "      <td>3.000000</td>\n",
       "      <td>39.170000</td>\n",
       "      <td>20.186500</td>\n",
       "      <td>670.985242</td>\n",
       "      <td>2.000000</td>\n",
       "      <td>1.000000</td>\n",
       "      <td>3.000000</td>\n",
       "      <td>3.000000</td>\n",
       "      <td>2.000000</td>\n",
       "      <td>...</td>\n",
       "      <td>0.000000</td>\n",
       "      <td>0.000000</td>\n",
       "      <td>0.000000</td>\n",
       "      <td>0.00</td>\n",
       "      <td>0.00</td>\n",
       "      <td>2.000000</td>\n",
       "      <td>0.00</td>\n",
       "      <td>0.000000</td>\n",
       "      <td>0.00</td>\n",
       "      <td>0.00</td>\n",
       "    </tr>\n",
       "    <tr>\n",
       "      <td>max</td>\n",
       "      <td>81.585714</td>\n",
       "      <td>6.000000</td>\n",
       "      <td>98.560000</td>\n",
       "      <td>60.480000</td>\n",
       "      <td>965.207681</td>\n",
       "      <td>6.000000</td>\n",
       "      <td>4.000000</td>\n",
       "      <td>5.000000</td>\n",
       "      <td>6.000000</td>\n",
       "      <td>7.000000</td>\n",
       "      <td>...</td>\n",
       "      <td>1.000000</td>\n",
       "      <td>1.000000</td>\n",
       "      <td>1.000000</td>\n",
       "      <td>1.00</td>\n",
       "      <td>1.00</td>\n",
       "      <td>6.000000</td>\n",
       "      <td>1.00</td>\n",
       "      <td>1.000000</td>\n",
       "      <td>1.00</td>\n",
       "      <td>1.00</td>\n",
       "    </tr>\n",
       "  </tbody>\n",
       "</table>\n",
       "<p>8 rows × 30 columns</p>\n",
       "</div>"
      ],
      "text/plain": [
       "       AvgOverallScore  NearbyParks  TotalNearbyAcreage  AvgNearbyAcreage  \\\n",
       "count        25.000000    25.000000           25.000000         24.000000   \n",
       "mean         67.314857     2.320000           30.666800         17.060951   \n",
       "std           7.059267     1.676305           23.610393         14.323788   \n",
       "min          53.614286     0.000000            0.000000          2.241667   \n",
       "25%          64.985714     1.000000           14.140000          7.512500   \n",
       "50%          67.914286     2.000000           21.080000         13.970000   \n",
       "75%          70.842857     3.000000           39.170000         20.186500   \n",
       "max          81.585714     6.000000           98.560000         60.480000   \n",
       "\n",
       "       AvgNearbyParkDistance  Basketball  NatureWalkingTrail  PicnicArea  \\\n",
       "count              24.000000   25.000000           25.000000   25.000000   \n",
       "mean              533.369118    1.840000            0.720000    2.080000   \n",
       "std               197.348611    1.312758            0.979796    1.497776   \n",
       "min               137.628556    0.000000            0.000000    0.000000   \n",
       "25%               439.129045    1.000000            0.000000    1.000000   \n",
       "50%               504.379998    2.000000            1.000000    2.000000   \n",
       "75%               670.985242    2.000000            1.000000    3.000000   \n",
       "max               965.207681    6.000000            4.000000    5.000000   \n",
       "\n",
       "       Playground     Soccer  ...   Sledding  WadingPool  HockeyRink  \\\n",
       "count   25.000000  25.000000  ...  25.000000   25.000000   25.000000   \n",
       "mean     2.120000   1.240000  ...   0.120000    0.080000    0.120000   \n",
       "std      1.363818   1.640122  ...   0.331662    0.276887    0.331662   \n",
       "min      0.000000   0.000000  ...   0.000000    0.000000    0.000000   \n",
       "25%      1.000000   0.000000  ...   0.000000    0.000000    0.000000   \n",
       "50%      2.000000   1.000000  ...   0.000000    0.000000    0.000000   \n",
       "75%      3.000000   2.000000  ...   0.000000    0.000000    0.000000   \n",
       "max      6.000000   7.000000  ...   1.000000    1.000000    1.000000   \n",
       "\n",
       "       CommunityGarden  Canoe/KayakLaunch   Baseball  Bocce  ShoreFishing  \\\n",
       "count            25.00              25.00  25.000000  25.00     25.000000   \n",
       "mean              0.04               0.04   1.800000   0.04      0.080000   \n",
       "std               0.20               0.20   1.779513   0.20      0.276887   \n",
       "min               0.00               0.00   0.000000   0.00      0.000000   \n",
       "25%               0.00               0.00   1.000000   0.00      0.000000   \n",
       "50%               0.00               0.00   1.000000   0.00      0.000000   \n",
       "75%               0.00               0.00   2.000000   0.00      0.000000   \n",
       "max               1.00               1.00   6.000000   1.00      1.000000   \n",
       "\n",
       "       DiscGolf  Stage  \n",
       "count     25.00  25.00  \n",
       "mean       0.04   0.04  \n",
       "std        0.20   0.20  \n",
       "min        0.00   0.00  \n",
       "25%        0.00   0.00  \n",
       "50%        0.00   0.00  \n",
       "75%        0.00   0.00  \n",
       "max        1.00   1.00  \n",
       "\n",
       "[8 rows x 30 columns]"
      ]
     },
     "execution_count": 49,
     "metadata": {},
     "output_type": "execute_result"
    }
   ],
   "source": [
    "schools.iloc[:,3:schools.shape[1]].describe()"
   ]
  },
  {
   "cell_type": "markdown",
   "metadata": {},
   "source": [
    "<hr>"
   ]
  },
  {
   "cell_type": "markdown",
   "metadata": {},
   "source": [
    "# Methodology <a name=\"methodology\"></a>"
   ]
  },
  {
   "cell_type": "markdown",
   "metadata": {},
   "source": [
    "I will use Multiple Linear Regression to test the impact features have on school performance scores.\n",
    "\n",
    "First I need to select features for modeling. I need to find features that are individually correlated to the target variable, but not too strongly correlated with each other. (If there are multiple features that are strongly correlated to the target and each other, it might be appropriate to create a composite variable.)\n",
    "\n",
    "\n",
    "Let's check out a couple features with scatter plots. One hypothesis I have, based on the maps above, is a \"quality over quantity\" sort of dynamic exists. I'm guessing there will be a negative correlation between school performance and number of parks, and a positive correlation between school performance and average nearby acreage."
   ]
  },
  {
   "cell_type": "code",
   "execution_count": 193,
   "metadata": {},
   "outputs": [
    {
     "data": {
      "image/png": "[encoded data removed]",
      "text/plain": [
       "<Figure size 864x288 with 2 Axes>"
      ]
     },
     "metadata": {
      "needs_background": "light"
     },
     "output_type": "display_data"
    }
   ],
   "source": [
    "plt.figure(figsize=(12,4))\n",
    "plt.subplot(121)\n",
    "plt.scatter(schools.NearbyParks, schools_2.AvgOverallScore)\n",
    "plt.xlabel(\"Number of Parks within 1 km\")\n",
    "plt.ylabel(\"Average School Accountability Score\")\n",
    "plt.title('Number of Parks')\n",
    "\n",
    "plt.subplot(122)\n",
    "plt.scatter(schools.AvgNearbyAcreage, schools_2.AvgOverallScore)\n",
    "plt.xlabel(\"Average Acreage of Parks within 1 km\")\n",
    "plt.ylabel(\"Average School Accountability Score\")\n",
    "plt.title('Park Size')\n",
    "plt.show()"
   ]
  },
  {
   "cell_type": "markdown",
   "metadata": {},
   "source": [
    "There is definitely a negative correlation with the number of parks, but park size does not seem to be significantly correlated.\n",
    "\n",
    "Let's see which other features are correlated to school performance."
   ]
  },
  {
   "cell_type": "code",
   "execution_count": 59,
   "metadata": {},
   "outputs": [
    {
     "name": "stdout",
     "output_type": "stream",
     "text": [
      "Potentially significant positive correlations:\n",
      "Sledding    0.350813\n",
      "Name: AvgOverallScore, dtype: float64\n",
      "----------------------------------------------\n",
      "Potentially significant negative correlations:\n",
      "NearbyParks           -0.707351\n",
      "Basketball            -0.486927\n",
      "NatureWalkingTrail    -0.314951\n",
      "PicnicArea            -0.730287\n",
      "Playground            -0.655987\n",
      "Horseshoe             -0.611832\n",
      "Restroom              -0.457380\n",
      "Volleyball            -0.441440\n",
      "Pools/AquaticCenter   -0.301798\n",
      "Stage                 -0.404332\n",
      "Name: AvgOverallScore, dtype: float64\n"
     ]
    }
   ],
   "source": [
    "# Create a correlattion table including every column of the dataframe (expect school name, latitude, and longitude)\n",
    "correlation_table = schools.iloc[:,3:schools.shape[1]].corr()\n",
    "\n",
    "# Remove the first row, which is school performance scores\n",
    "correlation_table.drop('AvgOverallScore', axis=0, inplace=True)\n",
    "\n",
    "# Focus on correlations to the target variable\n",
    "correlations = correlation_table['AvgOverallScore']\n",
    "\n",
    "# Add all variables with a correlation greater than 0.3 or less than -0.3 to a list\n",
    "features = correlations.index[abs(correlations)>0.3].to_list()\n",
    "\n",
    "# Print the results\n",
    "print('Potentially significant positive correlations:')\n",
    "print(correlations[correlations>0.3])\n",
    "print('----------------------------------------------')\n",
    "print('Potentially significant negative correlations:')\n",
    "print(correlations[correlations<-0.3])\n"
   ]
  },
  {
   "cell_type": "markdown",
   "metadata": {},
   "source": [
    "Now that I have a list of potential features, I'll run a new correlation table to look for collinearity."
   ]
  },
  {
   "cell_type": "code",
   "execution_count": 61,
   "metadata": {},
   "outputs": [
    {
     "data": {
      "text/html": [
       "<div>\n",
       "<style scoped>\n",
       "    .dataframe tbody tr th:only-of-type {\n",
       "        vertical-align: middle;\n",
       "    }\n",
       "\n",
       "    .dataframe tbody tr th {\n",
       "        vertical-align: top;\n",
       "    }\n",
       "\n",
       "    .dataframe thead th {\n",
       "        text-align: right;\n",
       "    }\n",
       "</style>\n",
       "<table border=\"1\" class=\"dataframe\">\n",
       "  <thead>\n",
       "    <tr style=\"text-align: right;\">\n",
       "      <th></th>\n",
       "      <th>NearbyParks</th>\n",
       "      <th>Basketball</th>\n",
       "      <th>NatureWalkingTrail</th>\n",
       "      <th>PicnicArea</th>\n",
       "      <th>Playground</th>\n",
       "      <th>Horseshoe</th>\n",
       "      <th>Restroom</th>\n",
       "      <th>Volleyball</th>\n",
       "      <th>Pools/AquaticCenter</th>\n",
       "      <th>Sledding</th>\n",
       "      <th>Stage</th>\n",
       "    </tr>\n",
       "  </thead>\n",
       "  <tbody>\n",
       "    <tr>\n",
       "      <td>NearbyParks</td>\n",
       "      <td>1.000000</td>\n",
       "      <td>0.743742</td>\n",
       "      <td>0.538833</td>\n",
       "      <td>0.968510</td>\n",
       "      <td>0.839101</td>\n",
       "      <td>0.753249</td>\n",
       "      <td>0.728086</td>\n",
       "      <td>0.512125</td>\n",
       "      <td>0.328780</td>\n",
       "      <td>-0.146891</td>\n",
       "      <td>0.457355</td>\n",
       "    </tr>\n",
       "    <tr>\n",
       "      <td>Basketball</td>\n",
       "      <td>0.743742</td>\n",
       "      <td>1.000000</td>\n",
       "      <td>0.320056</td>\n",
       "      <td>0.748476</td>\n",
       "      <td>0.918808</td>\n",
       "      <td>0.809693</td>\n",
       "      <td>0.721006</td>\n",
       "      <td>0.484799</td>\n",
       "      <td>0.373182</td>\n",
       "      <td>-0.049764</td>\n",
       "      <td>0.025392</td>\n",
       "    </tr>\n",
       "    <tr>\n",
       "      <td>NatureWalkingTrail</td>\n",
       "      <td>0.538833</td>\n",
       "      <td>0.320056</td>\n",
       "      <td>1.000000</td>\n",
       "      <td>0.555361</td>\n",
       "      <td>0.431552</td>\n",
       "      <td>0.487818</td>\n",
       "      <td>0.248350</td>\n",
       "      <td>-0.165928</td>\n",
       "      <td>0.250000</td>\n",
       "      <td>-0.020515</td>\n",
       "      <td>0.059536</td>\n",
       "    </tr>\n",
       "    <tr>\n",
       "      <td>PicnicArea</td>\n",
       "      <td>0.968510</td>\n",
       "      <td>0.748476</td>\n",
       "      <td>0.555361</td>\n",
       "      <td>1.000000</td>\n",
       "      <td>0.851816</td>\n",
       "      <td>0.776353</td>\n",
       "      <td>0.707416</td>\n",
       "      <td>0.532133</td>\n",
       "      <td>0.381597</td>\n",
       "      <td>-0.187886</td>\n",
       "      <td>0.406158</td>\n",
       "    </tr>\n",
       "    <tr>\n",
       "      <td>Playground</td>\n",
       "      <td>0.839101</td>\n",
       "      <td>0.918808</td>\n",
       "      <td>0.431552</td>\n",
       "      <td>0.851816</td>\n",
       "      <td>1.000000</td>\n",
       "      <td>0.853917</td>\n",
       "      <td>0.761446</td>\n",
       "      <td>0.549511</td>\n",
       "      <td>0.329276</td>\n",
       "      <td>-0.125278</td>\n",
       "      <td>0.134427</td>\n",
       "    </tr>\n",
       "    <tr>\n",
       "      <td>Horseshoe</td>\n",
       "      <td>0.753249</td>\n",
       "      <td>0.809693</td>\n",
       "      <td>0.487818</td>\n",
       "      <td>0.776353</td>\n",
       "      <td>0.853917</td>\n",
       "      <td>1.000000</td>\n",
       "      <td>0.740140</td>\n",
       "      <td>0.581302</td>\n",
       "      <td>0.349482</td>\n",
       "      <td>-0.118300</td>\n",
       "      <td>0.008917</td>\n",
       "    </tr>\n",
       "    <tr>\n",
       "      <td>Restroom</td>\n",
       "      <td>0.728086</td>\n",
       "      <td>0.721006</td>\n",
       "      <td>0.248350</td>\n",
       "      <td>0.707416</td>\n",
       "      <td>0.761446</td>\n",
       "      <td>0.740140</td>\n",
       "      <td>1.000000</td>\n",
       "      <td>0.708842</td>\n",
       "      <td>0.211195</td>\n",
       "      <td>-0.046216</td>\n",
       "      <td>0.134120</td>\n",
       "    </tr>\n",
       "    <tr>\n",
       "      <td>Volleyball</td>\n",
       "      <td>0.512125</td>\n",
       "      <td>0.484799</td>\n",
       "      <td>-0.165928</td>\n",
       "      <td>0.532133</td>\n",
       "      <td>0.549511</td>\n",
       "      <td>0.581302</td>\n",
       "      <td>0.708842</td>\n",
       "      <td>1.000000</td>\n",
       "      <td>0.145693</td>\n",
       "      <td>0.017934</td>\n",
       "      <td>0.257742</td>\n",
       "    </tr>\n",
       "    <tr>\n",
       "      <td>Pools/AquaticCenter</td>\n",
       "      <td>0.328780</td>\n",
       "      <td>0.373182</td>\n",
       "      <td>0.250000</td>\n",
       "      <td>0.381597</td>\n",
       "      <td>0.329276</td>\n",
       "      <td>0.349482</td>\n",
       "      <td>0.211195</td>\n",
       "      <td>0.145693</td>\n",
       "      <td>1.000000</td>\n",
       "      <td>-0.184637</td>\n",
       "      <td>-0.102062</td>\n",
       "    </tr>\n",
       "    <tr>\n",
       "      <td>Sledding</td>\n",
       "      <td>-0.146891</td>\n",
       "      <td>-0.049764</td>\n",
       "      <td>-0.020515</td>\n",
       "      <td>-0.187886</td>\n",
       "      <td>-0.125278</td>\n",
       "      <td>-0.118300</td>\n",
       "      <td>-0.046216</td>\n",
       "      <td>0.017934</td>\n",
       "      <td>-0.184637</td>\n",
       "      <td>1.000000</td>\n",
       "      <td>-0.075378</td>\n",
       "    </tr>\n",
       "    <tr>\n",
       "      <td>Stage</td>\n",
       "      <td>0.457355</td>\n",
       "      <td>0.025392</td>\n",
       "      <td>0.059536</td>\n",
       "      <td>0.406158</td>\n",
       "      <td>0.134427</td>\n",
       "      <td>0.008917</td>\n",
       "      <td>0.134120</td>\n",
       "      <td>0.257742</td>\n",
       "      <td>-0.102062</td>\n",
       "      <td>-0.075378</td>\n",
       "      <td>1.000000</td>\n",
       "    </tr>\n",
       "  </tbody>\n",
       "</table>\n",
       "</div>"
      ],
      "text/plain": [
       "                     NearbyParks  Basketball  NatureWalkingTrail  PicnicArea  \\\n",
       "NearbyParks             1.000000    0.743742            0.538833    0.968510   \n",
       "Basketball              0.743742    1.000000            0.320056    0.748476   \n",
       "NatureWalkingTrail      0.538833    0.320056            1.000000    0.555361   \n",
       "PicnicArea              0.968510    0.748476            0.555361    1.000000   \n",
       "Playground              0.839101    0.918808            0.431552    0.851816   \n",
       "Horseshoe               0.753249    0.809693            0.487818    0.776353   \n",
       "Restroom                0.728086    0.721006            0.248350    0.707416   \n",
       "Volleyball              0.512125    0.484799           -0.165928    0.532133   \n",
       "Pools/AquaticCenter     0.328780    0.373182            0.250000    0.381597   \n",
       "Sledding               -0.146891   -0.049764           -0.020515   -0.187886   \n",
       "Stage                   0.457355    0.025392            0.059536    0.406158   \n",
       "\n",
       "                     Playground  Horseshoe  Restroom  Volleyball  \\\n",
       "NearbyParks            0.839101   0.753249  0.728086    0.512125   \n",
       "Basketball             0.918808   0.809693  0.721006    0.484799   \n",
       "NatureWalkingTrail     0.431552   0.487818  0.248350   -0.165928   \n",
       "PicnicArea             0.851816   0.776353  0.707416    0.532133   \n",
       "Playground             1.000000   0.853917  0.761446    0.549511   \n",
       "Horseshoe              0.853917   1.000000  0.740140    0.581302   \n",
       "Restroom               0.761446   0.740140  1.000000    0.708842   \n",
       "Volleyball             0.549511   0.581302  0.708842    1.000000   \n",
       "Pools/AquaticCenter    0.329276   0.349482  0.211195    0.145693   \n",
       "Sledding              -0.125278  -0.118300 -0.046216    0.017934   \n",
       "Stage                  0.134427   0.008917  0.134120    0.257742   \n",
       "\n",
       "                     Pools/AquaticCenter  Sledding     Stage  \n",
       "NearbyParks                     0.328780 -0.146891  0.457355  \n",
       "Basketball                      0.373182 -0.049764  0.025392  \n",
       "NatureWalkingTrail              0.250000 -0.020515  0.059536  \n",
       "PicnicArea                      0.381597 -0.187886  0.406158  \n",
       "Playground                      0.329276 -0.125278  0.134427  \n",
       "Horseshoe                       0.349482 -0.118300  0.008917  \n",
       "Restroom                        0.211195 -0.046216  0.134120  \n",
       "Volleyball                      0.145693  0.017934  0.257742  \n",
       "Pools/AquaticCenter             1.000000 -0.184637 -0.102062  \n",
       "Sledding                       -0.184637  1.000000 -0.075378  \n",
       "Stage                          -0.102062 -0.075378  1.000000  "
      ]
     },
     "execution_count": 61,
     "metadata": {},
     "output_type": "execute_result"
    }
   ],
   "source": [
    "schools[features].corr()"
   ]
  },
  {
   "cell_type": "markdown",
   "metadata": {},
   "source": [
    "Multicollinearity exists in several of these features. Many of these variables are strongly correlated with NearbyParks (Basketball, NatureWalkingTrail, PicnicArea, Playground, Horseshoe, Restroom, Volleyball). This makes sense, they are the most common park amenities and are found at most parks. Since they are found at most parks, I will keep the NearbyParks variable but remove the others from consideration.\n",
    "\n",
    "That leaves a few more to consider: Pools, Sledding, and Stage. Let's inspect each of these with scatter plots."
   ]
  },
  {
   "cell_type": "code",
   "execution_count": 62,
   "metadata": {},
   "outputs": [
    {
     "data": {
      "image/png": "[encoded data removed]",
      "text/plain": [
       "<Figure size 1152x288 with 3 Axes>"
      ]
     },
     "metadata": {
      "needs_background": "light"
     },
     "output_type": "display_data"
    }
   ],
   "source": [
    "plt.figure(figsize=(16,4))\n",
    "plt.subplot(131)\n",
    "plt.scatter(schools.Sledding, schools.AvgOverallScore)\n",
    "plt.xlabel(\"Sledding Hills within 1 km\")\n",
    "plt.ylabel(\"Average School Accountability Score\")\n",
    "plt.title('Sledding')\n",
    "\n",
    "plt.subplot(132)\n",
    "plt.scatter(schools['Pools/AquaticCenter'], schools.AvgOverallScore)\n",
    "plt.xlabel(\"Pools within 1 km\")\n",
    "plt.title('Pools')\n",
    "\n",
    "plt.subplot(133)\n",
    "plt.scatter(schools.Stage, schools.AvgOverallScore)\n",
    "plt.xlabel(\"Stages within 1 km\")\n",
    "plt.title('Stage')\n",
    "plt.show()"
   ]
  },
  {
   "cell_type": "markdown",
   "metadata": {},
   "source": [
    "Since there is only one instance of Stage, it doesn't make sense to keep that as a feature, but I'll keep the other two. \n",
    "\n",
    "My final list of features for modeling are:\n",
    "* Total number of nearby parks\n",
    "* Nearby sledding hills\n",
    "* Nearby pools or aquatic centers\n",
    "\n",
    "Now I will perform linear regression to see how the features interact with the target variable. My objective, at this point, is simply to measure what relationship may exist. I'm not trying to predict school performance scores, so I will not split the data into training and testing sets. However, if I had a larger training set, I probably would split it."
   ]
  },
  {
   "cell_type": "code",
   "execution_count": 209,
   "metadata": {},
   "outputs": [
    {
     "name": "stdout",
     "output_type": "stream",
     "text": [
      "Coefficients:  [-2.77089213  5.25290299 -0.68993161]\n",
      "Intercept:  73.25096484470416\n"
     ]
    }
   ],
   "source": [
    "\n",
    "from sklearn import linear_model\n",
    "LR = linear_model.LinearRegression()\n",
    "x = schools[['NearbyParks','Sledding','Pools/AquaticCenter']]\n",
    "y = schools['AvgOverallScore']\n",
    "LR.fit(x,y)\n",
    "print('Coefficients: ', LR.coef_)\n",
    "print('Intercept: ', LR.intercept_)\n"
   ]
  },
  {
   "cell_type": "markdown",
   "metadata": {},
   "source": [
    "So, sklearn is actually pretty limited in it's output. I get the coefficients and intercept, but for my purpose what I'm really interested in are the p values for each feature. I'll run the regression again using statsmodels. It should return the same coefficients as sklearn, but will also let me see if the features' contributions to the model are statistically significant."
   ]
  },
  {
   "cell_type": "code",
   "execution_count": 64,
   "metadata": {},
   "outputs": [],
   "source": [
    "import statsmodels.api as sm"
   ]
  },
  {
   "cell_type": "code",
   "execution_count": 211,
   "metadata": {},
   "outputs": [
    {
     "name": "stderr",
     "output_type": "stream",
     "text": [
      "C:\\Users\\dritter\\AppData\\Local\\Continuum\\anaconda3\\lib\\site-packages\\numpy\\core\\fromnumeric.py:2389: FutureWarning: Method .ptp is deprecated and will be removed in a future version. Use numpy.ptp instead.\n",
      "  return ptp(axis=axis, out=out, **kwargs)\n"
     ]
    },
    {
     "name": "stdout",
     "output_type": "stream",
     "text": [
      "                            OLS Regression Results                            \n",
      "==============================================================================\n",
      "Dep. Variable:        AvgOverallScore   R-squared:                       0.564\n",
      "Model:                            OLS   Adj. R-squared:                  0.502\n",
      "Method:                 Least Squares   F-statistic:                     9.057\n",
      "Date:                Sat, 25 Jul 2020   Prob (F-statistic):           0.000481\n",
      "Time:                        19:32:35   Log-Likelihood:                -73.444\n",
      "No. Observations:                  25   AIC:                             154.9\n",
      "Df Residuals:                      21   BIC:                             159.8\n",
      "Df Model:                           3                                         \n",
      "Covariance Type:            nonrobust                                         \n",
      "=======================================================================================\n",
      "                          coef    std err          t      P>|t|      [0.025      0.975]\n",
      "---------------------------------------------------------------------------------------\n",
      "const                  73.2510      1.824     40.155      0.000      69.457      77.045\n",
      "NearbyParks            -2.7709      0.645     -4.294      0.000      -4.113      -1.429\n",
      "Sledding                5.2529      3.134      1.676      0.109      -1.264      11.770\n",
      "Pools/AquaticCenter    -0.6899      2.667     -0.259      0.798      -6.236       4.856\n",
      "==============================================================================\n",
      "Omnibus:                        0.876   Durbin-Watson:                   1.323\n",
      "Prob(Omnibus):                  0.645   Jarque-Bera (JB):                0.178\n",
      "Skew:                           0.167   Prob(JB):                        0.915\n",
      "Kurtosis:                       3.243   Cond. No.                         9.78\n",
      "==============================================================================\n",
      "\n",
      "Warnings:\n",
      "[1] Standard Errors assume that the covariance matrix of the errors is correctly specified.\n"
     ]
    }
   ],
   "source": [
    "X2 = sm.add_constant(x)\n",
    "est = sm.OLS(y, X2)\n",
    "est2 = est.fit()\n",
    "print(est2.summary())"
   ]
  },
  {
   "cell_type": "markdown",
   "metadata": {},
   "source": [
    "#### Unfortunately, it looks like the only significant feature is Nearby Parks.\n",
    "<hr>"
   ]
  },
  {
   "cell_type": "markdown",
   "metadata": {},
   "source": [
    "# Results <a name=\"results\"></a>"
   ]
  },
  {
   "cell_type": "markdown",
   "metadata": {},
   "source": [
    "### Hypothesis 1: Access to parks is related to higher school performance.\n",
    "\n",
    "#### **Result:** Not Supported\n",
    "\n",
    "In fact, a significant *negative* correlation exists between the number of nearby parks and school performance. In other words, low-performing schools tend to have more parks nearby. This appears to be due in part to the high density of very small parks located in the city center, where lower-performing schools also tend to be located.\n",
    "\n",
    "\n",
    "### Hypothesis 2: The size of parks, not the quantity, is related to higher school performance.\n",
    "\n",
    "#### **Result:** Not Supported\n",
    "\n",
    "There was no significant correlation between the two variables. Small and mid-sized parks were equally likely to be near low- or high-performing schools. The largest parks tended to be around average-performing schools.\n",
    "\n",
    "\n",
    "### Hypothesis 3: Specific park amenities are related to higher school performance.\n",
    "\n",
    "#### **Result:** Not Supported\n",
    "\n",
    "Many common park amenities, such as playgrounds or basketball courts, are so prevalent that there is not a meaningful difference between the parks themselves and individual park amenities. Are few excpetions are Sledding Hills and Pools/Aquatic Centers, which were both positively correlated with higher school performance, but not significantly.\n",
    "\n",
    "<hr>"
   ]
  },
  {
   "cell_type": "markdown",
   "metadata": {},
   "source": [
    "# Discussion <a name=\"discussion\"></a>"
   ]
  },
  {
   "cell_type": "markdown",
   "metadata": {},
   "source": [
    "\n",
    "### Recommendation 1: Data Development Agenda\n",
    "It is recommended that the City of Green Bay collect, store, and make publicly-available detailed information on its Parks, Recreation and Forestry holdings and assets. This would include an assessment of park amenities, date of last improvement, planned future improvements, cost of amenities.\n",
    "\n",
    "It is unfortunate that Foursquare had insufficient rating data for Green Bay parks, because a measure of park quality is major gap in this analysis. Schools in dense urban areas are clearly nearby several parks, but the current state of those parks is not accounted for. Playgrounds which are old, outdated, or in disrepair could potentially have an adverse impact on neighborhood kids. Furthermore, more detailed and publicly-available on parks would be helpful in determining the impact of parks on the communities they are in. Such data would allow us to examine what impacts are observed immediately following park improvements. Do school performance scores rise? Does crime decrease?\n",
    "\n",
    "### Recommendation 2: Focus on Winter Activities\n",
    "Continue to investigate the impact of sledding hills.\n",
    "\n",
    "Although sledding hills ended up not passing the test for statistical significance, it was close. In Green Bay, snow may be on the ground for 4-6 months each year. This has a major impact on access to park amenities. Most publicly-available, outdoor, winter activites require expensive equipment, such as cross-country skiiing, hockey, or ice skating. Sledding is unique in its accessibility to a wider range of socioeconomic levels. Furthermore, if parks are to have an impact on school performance, it seems important that meaningful park amenities would be available when school is actually in session (the winter).\n",
    "\n",
    "### Other questions...\n",
    "#### How does this park data compare to other school or community factors?\n",
    "I found two more variables that might have a significant impact on school performance: Student/Teacher Ratio, and Median Income of families in neighborhood around each school. Below are the scatter plots and regression results for these two variables.\n"
   ]
  },
  {
   "cell_type": "code",
   "execution_count": 229,
   "metadata": {},
   "outputs": [
    {
     "data": {
      "image/png": "[encoded data removed]",
      "text/plain": [
       "<Figure size 864x288 with 2 Axes>"
      ]
     },
     "metadata": {
      "needs_background": "light"
     },
     "output_type": "display_data"
    }
   ],
   "source": [
    "plt.figure(figsize=(12,4))\n",
    "plt.subplot(121)\n",
    "plt.scatter(schools.StudentTeacherRatio, schools.AvgOverallScore)\n",
    "plt.xlabel(\"Number of Students per FTE Teacher\")\n",
    "plt.ylabel(\"Average School Accountability Score\")\n",
    "plt.title('Student/Teacher Ratio')\n",
    "\n",
    "plt.subplot(122)\n",
    "plt.scatter(schools.MedianIncome, schools.AvgOverallScore)\n",
    "plt.xlabel(\"Median Income in Neighborhood Around School\")\n",
    "plt.ylabel(\"Average School Accountability Score\")\n",
    "plt.title('Median Income')\n",
    "plt.show()"
   ]
  },
  {
   "cell_type": "code",
   "execution_count": 230,
   "metadata": {},
   "outputs": [
    {
     "name": "stdout",
     "output_type": "stream",
     "text": [
      "Coefficients:  [2.92010010e-04 5.16144852e+00 6.73448159e-01]\n",
      "Intercept:  44.63712114074613\n"
     ]
    }
   ],
   "source": [
    "x = schools[['MedianIncome','Sledding','StudentTeacherRatio']]\n",
    "y = schools['AvgOverallScore']\n",
    "LR.fit(x,y)\n",
    "print('Coefficients: ', LR.coef_)\n",
    "print('Intercept: ', LR.intercept_)"
   ]
  },
  {
   "cell_type": "code",
   "execution_count": 231,
   "metadata": {},
   "outputs": [
    {
     "name": "stderr",
     "output_type": "stream",
     "text": [
      "C:\\Users\\dritter\\AppData\\Local\\Continuum\\anaconda3\\lib\\site-packages\\numpy\\core\\fromnumeric.py:2389: FutureWarning: Method .ptp is deprecated and will be removed in a future version. Use numpy.ptp instead.\n",
      "  return ptp(axis=axis, out=out, **kwargs)\n"
     ]
    },
    {
     "name": "stdout",
     "output_type": "stream",
     "text": [
      "                            OLS Regression Results                            \n",
      "==============================================================================\n",
      "Dep. Variable:        AvgOverallScore   R-squared:                       0.574\n",
      "Model:                            OLS   Adj. R-squared:                  0.514\n",
      "Method:                 Least Squares   F-statistic:                     9.448\n",
      "Date:                Wed, 29 Jul 2020   Prob (F-statistic):           0.000376\n",
      "Time:                        08:16:39   Log-Likelihood:                -73.143\n",
      "No. Observations:                  25   AIC:                             154.3\n",
      "Df Residuals:                      21   BIC:                             159.2\n",
      "Df Model:                           3                                         \n",
      "Covariance Type:            nonrobust                                         \n",
      "=======================================================================================\n",
      "                          coef    std err          t      P>|t|      [0.025      0.975]\n",
      "---------------------------------------------------------------------------------------\n",
      "const                  44.6371      5.787      7.714      0.000      32.603      56.671\n",
      "MedianIncome            0.0003   7.04e-05      4.148      0.000       0.000       0.000\n",
      "Sledding                5.1614      3.087      1.672      0.109      -1.258      11.581\n",
      "StudentTeacherRatio     0.6734      0.429      1.569      0.132      -0.219       1.566\n",
      "==============================================================================\n",
      "Omnibus:                        0.876   Durbin-Watson:                   2.202\n",
      "Prob(Omnibus):                  0.645   Jarque-Bera (JB):                0.850\n",
      "Skew:                          -0.256   Prob(JB):                        0.654\n",
      "Kurtosis:                       2.255   Cond. No.                     2.93e+05\n",
      "==============================================================================\n",
      "\n",
      "Warnings:\n",
      "[1] Standard Errors assume that the covariance matrix of the errors is correctly specified.\n",
      "[2] The condition number is large, 2.93e+05. This might indicate that there are\n",
      "strong multicollinearity or other numerical problems.\n"
     ]
    }
   ],
   "source": [
    "X2 = sm.add_constant(x)\n",
    "est = sm.OLS(y, X2)\n",
    "est2 = est.fit()\n",
    "print(est2.summary())"
   ]
  },
  {
   "cell_type": "markdown",
   "metadata": {},
   "source": [
    "### Results:\n",
    "Median Income is definitely a significant factor, but Student/Teacher Ratio is actually (slightly) less significant than nearby Sledding Hills. Perhaps more reason to give more consideration to accessible winter activities.\n",
    "<hr>"
   ]
  },
  {
   "cell_type": "markdown",
   "metadata": {},
   "source": [
    "# Conclusion <a name=\"conclusion\"></a>"
   ]
  },
  {
   "cell_type": "markdown",
   "metadata": {},
   "source": [
    "### Objective 1: Proof of Principle = Rejected\n",
    "At this time, it is the recommendation of this analysis that the community action group not pursue a park improvement initiative as a targeted means of improving school performance. Instead, it is recommended the group pursue impacts related to Median Income level. Questions to consider in future analysis include:\n",
    "* Is this the right data to answer this question? Incorporating time-based data may be more appropriate.\n",
    "* Is the Overall School Accountability Score an accurate measure of school performance? Does it represent child well-being in a meaningful way?\n",
    "* What would be a more meaningful metric to represent the well-being of neighborhood children?\n",
    "\n",
    "## Thank you for taking the time to review this analysis!"
   ]
  },
  {
   "cell_type": "code",
   "execution_count": null,
   "metadata": {},
   "outputs": [],
   "source": []
  }
 ],
 "metadata": {
  "kernelspec": {
   "display_name": "Python 3",
   "language": "python",
   "name": "python3"
  },
  "language_info": {
   "codemirror_mode": {
    "name": "ipython",
    "version": 3
   },
   "file_extension": ".py",
   "mimetype": "text/x-python",
   "name": "python",
   "nbconvert_exporter": "python",
   "pygments_lexer": "ipython3",
   "version": "3.7.4"
  }
 },
 "nbformat": 4,
 "nbformat_minor": 4
}
