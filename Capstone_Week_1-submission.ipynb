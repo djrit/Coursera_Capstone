{
 "cells": [
  {
   "cell_type": "markdown",
   "metadata": {},
   "source": [
    "# \"The Battle of the Neighborhoods\" - Week 1\n",
    "### Applied Data Science Capstone Project\n",
    "<hr>"
   ]
  },
  {
   "cell_type": "markdown",
   "metadata": {},
   "source": [
    "## Table of contents\n",
    "* [Introduction/Business Problem](#introduction)\n",
    "* [Data](#data)\n",
    "\n",
    "\n",
    "<hr>"
   ]
  },
  {
   "cell_type": "markdown",
   "metadata": {},
   "source": [
    "## Introduction/Business Problem <a name=\"introduction\"></a>"
   ]
  },
  {
   "cell_type": "markdown",
   "metadata": {},
   "source": [
    "##### Purpose\n",
    "This project aims to identify and prioritize improvement opportunities for neighborhood parks in Green Bay, Wisconsin, USA.\n",
    "##### Audience\n",
    "The target audience for this analysis is a community action group working toward improved elementary education outcomes for the city population. The group includes representation from the school district, local government, business community leaders, and citizen stakeholders. The group wants to know if they should pursue a park improvement initiative.\n",
    "##### Background\n",
    "Successful school outcomes are the result of a complex system of factors. Many factors are within a school's control, such as student-to-teacher ratio or highly qualified teachers. Many more factors, however, are outside a school's control, such as parent engagement, neighborhood safety, and food security. To effectively address this complex issue, a complex solution is required, with interventions applied to internal and external factors concurrently. It is unrealistic to expect a school district to create meaningful and lasting improvements to student outcomes without outside assistance addressing external factors.\n",
    "The external factor examined by this analysis is equitable access to outdoor recreational activities provided by public parks. The greenspaces and playgrounds found in public parks promote the holistic development of healthy children through physical play, environment exploration, and unstructured, self-directed play.\n",
    "\n",
    "### Step 1: Proof of Principle\n",
    "Based on observations made from the data, is this idea worth pursuing? The primary purpose of this analysis is to **determine whether or not to pursue a park improvement initiative.** In other words, is there any measurable relationship between school outcomes and access to parks.\n",
    "### Step 2: Key Questions\n",
    "If the determination is made to pursue the initiative, which park improvements should be prioritized?\n",
    "* **Which neighborhoods** are in need of park improvement/development?\n",
    "* **What specific improvements** might provide the most benefit to park users?\n",
    "<hr>"
   ]
  },
  {
   "cell_type": "markdown",
   "metadata": {},
   "source": [
    "\n",
    "## Data <a name=\"data\"></a>"
   ]
  },
  {
   "cell_type": "markdown",
   "metadata": {},
   "source": [
    "To understand the current state of elementary schools in Green Bay, the following data will be pulled from the Wisconsin Department of Public Instruction (\"DPI\") website:\n",
    "* **Names and locations of elementary schools** in the Green Bay Area Public School District (\"GBAPS\").\n",
    "* **School accountability reports** from the last seven years. These reports include a variety of performance metrics. The data will be used to select neighborhoods in greatest need of intervention. This data can also be used as a target for machine learning models seeking to explain factors related to school performance.\n",
    "\n",
    "To understand the current state of parks in Green Bay, the following data will be retrieved from the Foursquare API.\n",
    "* **Names and locations of parks** in the proximity of elementary schools. Park distance from school will be a feature considered for modeling.\n",
    "* **User ratings of parks.** This will serve as a metric of park quality, another feature to be considered for modeling.\n"
   ]
  },
  {
   "cell_type": "markdown",
   "metadata": {},
   "source": [
    "## School Data\n",
    "#### Names and locations\n",
    "First I'll grab the names and locations of schools. This data is easily acquired by downloading a CSV from the DPI public data portal. Let's load the CSV into a dataframe and clean it up."
   ]
  },
  {
   "cell_type": "code",
   "execution_count": 1,
   "metadata": {},
   "outputs": [],
   "source": [
    "import pandas as pd\n",
    "import numpy as np"
   ]
  },
  {
   "cell_type": "code",
   "execution_count": 2,
   "metadata": {},
   "outputs": [
    {
     "data": {
      "text/plain": [
       "Index(['X', 'Y', 'FID', 'SCHOOL', 'DISTRICT', 'SCH_TYPE', 'LOW_GRADE',\n",
       "       'HIGH_GRADE', 'TYPE_DESC', 'SCH_CAT', 'CHARTER', 'VIRTUAL', 'FULL_ADDR',\n",
       "       'STAND_ADDR', 'PHYS_COUNT', 'CESA', 'DIST_CODE', 'SCH_CODE', 'UNIQUE_',\n",
       "       'NCES_DIST', 'NCES_SCH', 'ASM', 'SEN', 'CON', 'Latitude', 'Longitude'],\n",
       "      dtype='object')"
      ]
     },
     "execution_count": 2,
     "metadata": {},
     "output_type": "execute_result"
    }
   ],
   "source": [
    "schools = pd.read_csv('school_list.csv')\n",
    "schools.columns"
   ]
  },
  {
   "cell_type": "markdown",
   "metadata": {},
   "source": [
    "Let's filter out the data we won't use. First, unused columns will be dropped so the dataframe is easier to look at. We will keep the columns related to school name, type, grade level, address, and geocoordinates. Second, we'll focus on dropping rows that do not contain elementary schools."
   ]
  },
  {
   "cell_type": "code",
   "execution_count": 3,
   "metadata": {},
   "outputs": [],
   "source": [
    "# Drop the columns that will not be used\n",
    "schools.drop(['X','Y','FID','DISTRICT','TYPE_DESC','SCH_CAT','CHARTER','VIRTUAL','FULL_ADDR','PHYS_COUNT','CESA','DIST_CODE','SCH_CODE','UNIQUE_','NCES_DIST','NCES_SCH','ASM','SEN','CON'], axis=1, inplace=True)\n",
    "\n",
    "# Since we're focusing on elementary schools, keep rows with a starting grade of 'K' and an ending grade of 5 or 8.\n",
    "# Note, K-8 schools are technically not considered elementary schools. I'll probably end up dropping them, but want to see the data first.\n",
    "schools = schools[schools.LOW_GRADE.str.contains('K')]\n",
    "schools = schools[(schools.HIGH_GRADE.str.contains('5') | schools.HIGH_GRADE.str.contains('8'))]\n",
    "\n",
    "# Sort dataframe by school name and reset index\n",
    "schools = schools.sort_values('SCHOOL')\n",
    "schools.reset_index(inplace=True, drop=True)"
   ]
  },
  {
   "cell_type": "code",
   "execution_count": 4,
   "metadata": {},
   "outputs": [
    {
     "name": "stdout",
     "output_type": "stream",
     "text": [
      "The dataframe has 28 rows and 7 columns.\n"
     ]
    },
    {
     "data": {
      "text/html": [
       "<div>\n",
       "<style scoped>\n",
       "    .dataframe tbody tr th:only-of-type {\n",
       "        vertical-align: middle;\n",
       "    }\n",
       "\n",
       "    .dataframe tbody tr th {\n",
       "        vertical-align: top;\n",
       "    }\n",
       "\n",
       "    .dataframe thead th {\n",
       "        text-align: right;\n",
       "    }\n",
       "</style>\n",
       "<table border=\"1\" class=\"dataframe\">\n",
       "  <thead>\n",
       "    <tr style=\"text-align: right;\">\n",
       "      <th></th>\n",
       "      <th>SCHOOL</th>\n",
       "      <th>SCH_TYPE</th>\n",
       "      <th>LOW_GRADE</th>\n",
       "      <th>HIGH_GRADE</th>\n",
       "      <th>STAND_ADDR</th>\n",
       "      <th>Latitude</th>\n",
       "      <th>Longitude</th>\n",
       "    </tr>\n",
       "  </thead>\n",
       "  <tbody>\n",
       "    <tr>\n",
       "      <td>0</td>\n",
       "      <td>Aldo Leopold Comm Sch K-8</td>\n",
       "      <td>Combined Elementary/Secondary School</td>\n",
       "      <td>K4</td>\n",
       "      <td>08</td>\n",
       "      <td>622 Eliza St Green Bay, WI 54301-3229</td>\n",
       "      <td>44.499981</td>\n",
       "      <td>-88.017998</td>\n",
       "    </tr>\n",
       "    <tr>\n",
       "      <td>1</td>\n",
       "      <td>Baird El</td>\n",
       "      <td>Elementary School</td>\n",
       "      <td>K4</td>\n",
       "      <td>05</td>\n",
       "      <td>539 Laverne Dr Green Bay, WI 54311-5720</td>\n",
       "      <td>44.510968</td>\n",
       "      <td>-87.933378</td>\n",
       "    </tr>\n",
       "    <tr>\n",
       "      <td>2</td>\n",
       "      <td>Beaumont El</td>\n",
       "      <td>Elementary School</td>\n",
       "      <td>K4</td>\n",
       "      <td>05</td>\n",
       "      <td>1505 Gatewood St Green Bay, WI 54304-3375</td>\n",
       "      <td>44.505500</td>\n",
       "      <td>-88.051171</td>\n",
       "    </tr>\n",
       "    <tr>\n",
       "      <td>3</td>\n",
       "      <td>Chappell El</td>\n",
       "      <td>Elementary School</td>\n",
       "      <td>K4</td>\n",
       "      <td>05</td>\n",
       "      <td>205 N Fisk St Green Bay, WI 54303-3199</td>\n",
       "      <td>44.530298</td>\n",
       "      <td>-88.054852</td>\n",
       "    </tr>\n",
       "    <tr>\n",
       "      <td>4</td>\n",
       "      <td>Danz El</td>\n",
       "      <td>Elementary School</td>\n",
       "      <td>K4</td>\n",
       "      <td>05</td>\n",
       "      <td>2130 Basten St Green Bay, WI 54302-5398</td>\n",
       "      <td>44.508833</td>\n",
       "      <td>-87.968792</td>\n",
       "    </tr>\n",
       "  </tbody>\n",
       "</table>\n",
       "</div>"
      ],
      "text/plain": [
       "                      SCHOOL                              SCH_TYPE LOW_GRADE  \\\n",
       "0  Aldo Leopold Comm Sch K-8  Combined Elementary/Secondary School        K4   \n",
       "1                   Baird El                     Elementary School        K4   \n",
       "2                Beaumont El                     Elementary School        K4   \n",
       "3                Chappell El                     Elementary School        K4   \n",
       "4                    Danz El                     Elementary School        K4   \n",
       "\n",
       "  HIGH_GRADE                                 STAND_ADDR   Latitude  Longitude  \n",
       "0         08      622 Eliza St Green Bay, WI 54301-3229  44.499981 -88.017998  \n",
       "1         05    539 Laverne Dr Green Bay, WI 54311-5720  44.510968 -87.933378  \n",
       "2         05  1505 Gatewood St Green Bay, WI 54304-3375  44.505500 -88.051171  \n",
       "3         05     205 N Fisk St Green Bay, WI 54303-3199  44.530298 -88.054852  \n",
       "4         05    2130 Basten St Green Bay, WI 54302-5398  44.508833 -87.968792  "
      ]
     },
     "execution_count": 4,
     "metadata": {},
     "output_type": "execute_result"
    }
   ],
   "source": [
    "print(f'The dataframe has {schools.shape[0]} rows and {schools.shape[1]} columns.')\n",
    "schools.head()"
   ]
  },
  {
   "cell_type": "markdown",
   "metadata": {},
   "source": [
    "#### School accountability scores\n",
    "The next piece of school data we need are performance metrics, which the DPI reports annually in School Report Cards. After much searching through the DPI data portal, I could only find report cards shared in PDF format. I bulk-downloaded all the PDFs and scraped them to populate a dataframe using two libraries: os and pdfminer. I may share this process in a separate notebook, but for the purpose of this analysis I'm only going to import the output.\n",
    "\n",
    "*Note, the DPI did not publish school report cards for the 2014-2015 school year*"
   ]
  },
  {
   "cell_type": "code",
   "execution_count": 5,
   "metadata": {},
   "outputs": [
    {
     "name": "stdout",
     "output_type": "stream",
     "text": [
      "The dataframe has 193 rows and 7 columns.\n"
     ]
    },
    {
     "data": {
      "text/html": [
       "<div>\n",
       "<style scoped>\n",
       "    .dataframe tbody tr th:only-of-type {\n",
       "        vertical-align: middle;\n",
       "    }\n",
       "\n",
       "    .dataframe tbody tr th {\n",
       "        vertical-align: top;\n",
       "    }\n",
       "\n",
       "    .dataframe thead th {\n",
       "        text-align: right;\n",
       "    }\n",
       "</style>\n",
       "<table border=\"1\" class=\"dataframe\">\n",
       "  <thead>\n",
       "    <tr style=\"text-align: right;\">\n",
       "      <th></th>\n",
       "      <th>School</th>\n",
       "      <th>Year</th>\n",
       "      <th>Overall Score</th>\n",
       "      <th>Student Achievement</th>\n",
       "      <th>Student Growth</th>\n",
       "      <th>Closing Gaps</th>\n",
       "      <th>On-Track and Postsecondary Readiness</th>\n",
       "    </tr>\n",
       "  </thead>\n",
       "  <tbody>\n",
       "    <tr>\n",
       "      <td>0</td>\n",
       "      <td>Aldo Leopold</td>\n",
       "      <td>2011-12</td>\n",
       "      <td>74.5</td>\n",
       "      <td>71.5</td>\n",
       "      <td>74.1</td>\n",
       "      <td>63.5</td>\n",
       "      <td>89.0</td>\n",
       "    </tr>\n",
       "    <tr>\n",
       "      <td>1</td>\n",
       "      <td>Aldo Leopold</td>\n",
       "      <td>2012-13</td>\n",
       "      <td>75.3</td>\n",
       "      <td>72.6</td>\n",
       "      <td>69.6</td>\n",
       "      <td>68.3</td>\n",
       "      <td>90.6</td>\n",
       "    </tr>\n",
       "    <tr>\n",
       "      <td>2</td>\n",
       "      <td>Aldo Leopold</td>\n",
       "      <td>2013-14</td>\n",
       "      <td>77.3</td>\n",
       "      <td>72.1</td>\n",
       "      <td>71.7</td>\n",
       "      <td>75.6</td>\n",
       "      <td>89.9</td>\n",
       "    </tr>\n",
       "    <tr>\n",
       "      <td>3</td>\n",
       "      <td>Aldo Leopold</td>\n",
       "      <td>2015-16</td>\n",
       "      <td>66.0</td>\n",
       "      <td>70.6</td>\n",
       "      <td>37.5</td>\n",
       "      <td>66.5</td>\n",
       "      <td>89.0</td>\n",
       "    </tr>\n",
       "    <tr>\n",
       "      <td>4</td>\n",
       "      <td>Aldo Leopold</td>\n",
       "      <td>2016-17</td>\n",
       "      <td>70.3</td>\n",
       "      <td>66.3</td>\n",
       "      <td>61.3</td>\n",
       "      <td>64.8</td>\n",
       "      <td>88.0</td>\n",
       "    </tr>\n",
       "  </tbody>\n",
       "</table>\n",
       "</div>"
      ],
      "text/plain": [
       "         School     Year  Overall Score  Student Achievement  Student Growth  \\\n",
       "0  Aldo Leopold  2011-12           74.5                 71.5            74.1   \n",
       "1  Aldo Leopold  2012-13           75.3                 72.6            69.6   \n",
       "2  Aldo Leopold  2013-14           77.3                 72.1            71.7   \n",
       "3  Aldo Leopold  2015-16           66.0                 70.6            37.5   \n",
       "4  Aldo Leopold  2016-17           70.3                 66.3            61.3   \n",
       "\n",
       "   Closing Gaps  On-Track and Postsecondary Readiness  \n",
       "0          63.5                                  89.0  \n",
       "1          68.3                                  90.6  \n",
       "2          75.6                                  89.9  \n",
       "3          66.5                                  89.0  \n",
       "4          64.8                                  88.0  "
      ]
     },
     "execution_count": 5,
     "metadata": {},
     "output_type": "execute_result"
    }
   ],
   "source": [
    "school_scores = pd.read_csv('school_report_cards.csv')\n",
    "print(f'The dataframe has {school_scores.shape[0]} rows and {school_scores.shape[1]} columns.')\n",
    "school_scores.head()"
   ]
  },
  {
   "cell_type": "code",
   "execution_count": 6,
   "metadata": {},
   "outputs": [
    {
     "data": {
      "text/plain": [
       "68.05714285714285"
      ]
     },
     "execution_count": 6,
     "metadata": {},
     "output_type": "execute_result"
    }
   ],
   "source": [
    "school_scores['Overall Score'][school_scores['School']=='Baird'].mean()"
   ]
  },
  {
   "cell_type": "code",
   "execution_count": 7,
   "metadata": {},
   "outputs": [],
   "source": [
    "avg_scores=[]\n",
    "for school in list(school_scores.School.unique()):\n",
    "    avg_scores.append(school_scores['Overall Score'][school_scores['School']==school].mean())"
   ]
  },
  {
   "cell_type": "code",
   "execution_count": 8,
   "metadata": {},
   "outputs": [],
   "source": [
    "import folium, geocoder\n",
    "import matplotlib.cm as cm\n",
    "import matplotlib.colors as colors"
   ]
  },
  {
   "cell_type": "code",
   "execution_count": 9,
   "metadata": {},
   "outputs": [],
   "source": [
    "def coordinates(address):\n",
    "    coords = None\n",
    "    while (coords is None):\n",
    "        g = geocoder.arcgis(address)\n",
    "        coords = g.latlng   \n",
    "    return coords"
   ]
  },
  {
   "cell_type": "code",
   "execution_count": 10,
   "metadata": {},
   "outputs": [
    {
     "data": {
      "text/html": [
       "<div style=\"width:100%;\"><div style=\"position:relative;width:100%;height:0;padding-bottom:60%;\"><iframe src=\"about:blank\" style=\"position:absolute;width:100%;height:100%;left:0;top:0;border:none !important;\" data-html=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 onload=\"this.contentDocument.open();this.contentDocument.write(atob(this.getAttribute('data-html')));this.contentDocument.close();\" allowfullscreen webkitallowfullscreen mozallowfullscreen></iframe></div></div>"
      ],
      "text/plain": [
       "<folium.folium.Map at 0x25bf4c04688>"
      ]
     },
     "execution_count": 10,
     "metadata": {},
     "output_type": "execute_result"
    }
   ],
   "source": [
    "avg_scores=[]\n",
    "for school in list(school_scores.School.unique()):\n",
    "    avg_scores.append(school_scores['Overall Score'][school_scores['School']==school].mean())\n",
    "plot_df = schools[['SCHOOL','Latitude','Longitude']].copy()\n",
    "plot_df['AvgScore'] = avg_scores\n",
    "plot_df['MarkerColor'] = pd.cut(plot_df['AvgScore'], bins=5, labels=['red','orange','yellow','green','blue'])\n",
    "\n",
    "map = folium.Map(location=coordinates('Green Bay, WI'), zoom_start=12, tiles='Stamen Toner')\n",
    "for i,row in plot_df.iterrows():\n",
    "    folium.CircleMarker((row['Latitude'],row['Longitude']),\n",
    "                         radius=10,\n",
    "                         color=row['MarkerColor'],\n",
    "                         fill=True,\n",
    "                        popup=str(row['SCHOOL']+': '+str(round(row['AvgScore'],1)))).add_to(map)\n",
    "map"
   ]
  },
  {
   "cell_type": "code",
   "execution_count": 11,
   "metadata": {},
   "outputs": [
    {
     "data": {
      "text/html": [
       "<div>\n",
       "<style scoped>\n",
       "    .dataframe tbody tr th:only-of-type {\n",
       "        vertical-align: middle;\n",
       "    }\n",
       "\n",
       "    .dataframe tbody tr th {\n",
       "        vertical-align: top;\n",
       "    }\n",
       "\n",
       "    .dataframe thead th {\n",
       "        text-align: right;\n",
       "    }\n",
       "</style>\n",
       "<table border=\"1\" class=\"dataframe\">\n",
       "  <thead>\n",
       "    <tr style=\"text-align: right;\">\n",
       "      <th></th>\n",
       "      <th>SCHOOL</th>\n",
       "      <th>Latitude</th>\n",
       "      <th>Longitude</th>\n",
       "      <th>AvgScore</th>\n",
       "      <th>MarkerColor</th>\n",
       "    </tr>\n",
       "  </thead>\n",
       "  <tbody>\n",
       "    <tr>\n",
       "      <td>16</td>\n",
       "      <td>Leonardo da Vinci Sch-Gifted</td>\n",
       "      <td>44.511129</td>\n",
       "      <td>-88.010443</td>\n",
       "      <td>97.825</td>\n",
       "      <td>blue</td>\n",
       "    </tr>\n",
       "  </tbody>\n",
       "</table>\n",
       "</div>"
      ],
      "text/plain": [
       "                          SCHOOL   Latitude  Longitude  AvgScore MarkerColor\n",
       "16  Leonardo da Vinci Sch-Gifted  44.511129 -88.010443    97.825        blue"
      ]
     },
     "execution_count": 11,
     "metadata": {},
     "output_type": "execute_result"
    }
   ],
   "source": [
    "plot_df[plot_df.AvgScore==plot_df.AvgScore.max()]"
   ]
  },
  {
   "cell_type": "markdown",
   "metadata": {},
   "source": [
    "Clearly there is an outlier in the data. The school with a blue marker has an average score significantly higher than the others. That school is for gifted and talented students, so we'll remove that from the analysis. Let's go ahead and also remove the other K-8 schools too, so that we're dealing strictly with elementary schools."
   ]
  },
  {
   "cell_type": "code",
   "execution_count": 12,
   "metadata": {},
   "outputs": [],
   "source": [
    "plot_df.drop(plot_df.index[plot_df.SCHOOL.str.contains('El')==False], axis=0, inplace=True)"
   ]
  },
  {
   "cell_type": "markdown",
   "metadata": {},
   "source": [
    "Let's plot the schools again, this time applying a gradient color coding from red=low to green=high, instead of bins."
   ]
  },
  {
   "cell_type": "code",
   "execution_count": 13,
   "metadata": {},
   "outputs": [
    {
     "data": {
      "text/html": [
       "<div style=\"width:100%;\"><div style=\"position:relative;width:100%;height:0;padding-bottom:60%;\"><iframe src=\"about:blank\" style=\"position:absolute;width:100%;height:100%;left:0;top:0;border:none !important;\" data-html=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 onload=\"this.contentDocument.open();this.contentDocument.write(atob(this.getAttribute('data-html')));this.contentDocument.close();\" allowfullscreen webkitallowfullscreen mozallowfullscreen></iframe></div></div>"
      ],
      "text/plain": [
       "<folium.folium.Map at 0x25bf4d74088>"
      ]
     },
     "execution_count": 13,
     "metadata": {},
     "output_type": "execute_result"
    }
   ],
   "source": [
    "plot_df = plot_df.sort_values('AvgScore')\n",
    "\n",
    "num_splits = plot_df.shape[0]*2\n",
    "x = np.arange(num_splits)\n",
    "ys = [i + x + (i*x)**2 for i in range(num_splits)]\n",
    "colors_array = cm.gist_rainbow(np.linspace(0, 1, len(ys)))\n",
    "hex_colors_array = [colors.rgb2hex(i) for i in colors_array]\n",
    "\n",
    "plot_df['MarkerColor'] = hex_colors_array[0:plot_df.shape[0]]\n",
    "\n",
    "map = folium.Map(location=coordinates('Green Bay, WI'), zoom_start=12, tiles='Stamen Toner')\n",
    "for i,row in plot_df.iterrows():\n",
    "    folium.CircleMarker((row['Latitude'],row['Longitude']),\n",
    "                         radius=15,\n",
    "                         color=row['MarkerColor'],\n",
    "                         fill=True,\n",
    "                         alpha=1,\n",
    "                        popup=str(row['SCHOOL']+': '+str(round(row['AvgScore'],1)))).add_to(map)\n",
    "map"
   ]
  },
  {
   "cell_type": "markdown",
   "metadata": {},
   "source": [
    "Upon visual inspection, there appears to be a trend of decreasing scores for schools closer to the center of the city. In addition, poverty levels and crime rates tend to rise in neighborhoods closer to the center of the city, two factors which have an impact on students' school performance."
   ]
  },
  {
   "cell_type": "markdown",
   "metadata": {},
   "source": [
    "## Park Data\n",
    "#### Names, Locations and Ratings\n",
    "First, we'll use the Foursquare API to locate parks in the vicinity of each school. The following functions will be created to perform this task:\n",
    "* Use Foursquare API to find venues near each school matching search term \"Park\"\n",
    "* Use Foursquare API to confirm venue category is a park, and does not just have \"Park\" in the name\n",
    "* Calculate distance between park and school\n",
    "* Use Foursquare API to get rating of park\n"
   ]
  },
  {
   "cell_type": "code",
   "execution_count": 14,
   "metadata": {},
   "outputs": [],
   "source": [
    "# Import libraries for this step\n",
    "import requests\n",
    "from pandas.io.json import json_normalize\n",
    "from sklearn.metrics.pairwise import haversine_distances\n",
    "from math import radians"
   ]
  },
  {
   "cell_type": "code",
   "execution_count": 15,
   "metadata": {},
   "outputs": [],
   "source": [
    "# Define API credentials\n",
    "CLIENT_ID = 'J1SNRIQCSENU5NGCTY0HSR1GJO4UWR1T54QKMLYXZRTSDLK0' # your Foursquare ID\n",
    "CLIENT_SECRET = 'LJUGUOSP3N52R0ZBPLT4YR1H4L1VKNZLDP0AKMKSMQH2H5QV' # your Foursquare Secret\n",
    "VERSION = '20180604'\n",
    "LIMIT = 20"
   ]
  },
  {
   "cell_type": "markdown",
   "metadata": {},
   "source": [
    "We'll borrow this function from the previous lab to get venue categories."
   ]
  },
  {
   "cell_type": "code",
   "execution_count": 16,
   "metadata": {},
   "outputs": [],
   "source": [
    "# function that extracts the category of the venue\n",
    "def get_category_type(row):\n",
    "    try:\n",
    "        categories_list = row['categories']\n",
    "    except:\n",
    "        categories_list = row['venue.categories']\n",
    "        \n",
    "    if len(categories_list) == 0:\n",
    "        return None\n",
    "    else:\n",
    "        return categories_list[0]['name']"
   ]
  },
  {
   "cell_type": "code",
   "execution_count": 17,
   "metadata": {},
   "outputs": [],
   "source": [
    "pd.options.mode.chained_assignment = None  # default='warn'"
   ]
  },
  {
   "cell_type": "markdown",
   "metadata": {},
   "source": [
    "This function will calculate distance between parks and schools."
   ]
  },
  {
   "cell_type": "code",
   "execution_count": 18,
   "metadata": {},
   "outputs": [],
   "source": [
    "# function that finds distance between two points on a sphere\n",
    "# function adapted from scikit-learn documentation\n",
    "\n",
    "def calculate_distance(loc1,loc2):\n",
    "    loc1_in_radians = [radians(_) for _ in loc1]\n",
    "    loc2_in_radians = [radians(_) for _ in loc2]\n",
    "    result = haversine_distances([loc1_in_radians, loc2_in_radians])[1][0]\n",
    "    \n",
    "    return result * 6371000  # multiply by Earth radius to get meters"
   ]
  },
  {
   "cell_type": "markdown",
   "metadata": {},
   "source": [
    "This function will look up park rating."
   ]
  },
  {
   "cell_type": "code",
   "execution_count": 37,
   "metadata": {},
   "outputs": [],
   "source": [
    "# function that gets rating from venue details\n",
    "\n",
    "def get_rating(venue_id):\n",
    "    url = 'https://api.foursquare.com/v2/venues/{}?client_id={}&client_secret={}&v={}'.format(venue_id, CLIENT_ID, CLIENT_SECRET, VERSION)\n",
    "    result = requests.get(url).json()\n",
    "    try:\n",
    "        rating = result['response']['venue']['rating']\n",
    "    except:\n",
    "        rating = 'no rating'\n",
    "    return rating"
   ]
  },
  {
   "cell_type": "markdown",
   "metadata": {},
   "source": [
    "This function will look up parks and put them into a dataframe."
   ]
  },
  {
   "cell_type": "code",
   "execution_count": 45,
   "metadata": {},
   "outputs": [],
   "source": [
    "def get_parks(df,index):\n",
    "    search_query = 'Park'\n",
    "    radius = 1000\n",
    "    limit=20\n",
    "    lat,lng = list(df.loc[index][['Latitude','Longitude']])\n",
    "    url = 'https://api.foursquare.com/v2/venues/search?client_id={}&client_secret={}&ll={},{}&v={}&query={}&radius={}&limit={}'.format(CLIENT_ID, CLIENT_SECRET, lat, lng, VERSION, search_query, radius, LIMIT)\n",
    "    school = df.loc[index]['SCHOOL']\n",
    "\n",
    "    # send the GET request\n",
    "    results = requests.get(url).json()\n",
    "    \n",
    "    venues = results['response']['venues']\n",
    "        \n",
    "    nearby_parks = json_normalize(venues) # flatten JSON\n",
    "    \n",
    "    # filter columns\n",
    "    filtered_columns = ['id','name', 'categories', 'location.lat', 'location.lng']\n",
    "    #nearby_parks =nearby_parks.loc[:, filtered_columns]\n",
    "    try:\n",
    "        nearby_parks = nearby_parks[filtered_columns]\n",
    "    except:\n",
    "        print(f'0 parks found near {school}.')\n",
    "        return None\n",
    "\n",
    "    # filter the category for each row\n",
    "    nearby_parks['categories'] = nearby_parks.apply(get_category_type, axis=1)\n",
    "    \n",
    "    # clean columns\n",
    "    #nearby_parks.columns = [col.split(\".\")[-1] for col in nearby_parks.columns]\n",
    "    \n",
    "    # remove venues that are not parks\n",
    "    nearby_parks = nearby_parks[nearby_parks['categories']=='Park']\n",
    "    \n",
    "    print(f'{nearby_parks.shape[0]} parks found near {school}.')\n",
    "\n",
    "    nearby_parks['NearSchool'] = school\n",
    "    nearby_parks['Distance'] = 0\n",
    "    nearby_parks['Rating'] = 0\n",
    "    for i,row in nearby_parks.iterrows():\n",
    "        nearby_parks.at[[i],['Distance']] = calculate_distance([lat,lng], [nearby_parks.loc[i]['location.lat'],nearby_parks.loc[i]['location.lng']])\n",
    "        nearby_parks.at[[i],['Rating']] = get_rating(nearby_parks.loc[i]['id'])\n",
    "    \n",
    "\n",
    "    return nearby_parks"
   ]
  },
  {
   "cell_type": "markdown",
   "metadata": {},
   "source": [
    "Now that all the functions are defined, we can run through the list of schools and search for parks."
   ]
  },
  {
   "cell_type": "code",
   "execution_count": 46,
   "metadata": {},
   "outputs": [
    {
     "name": "stdout",
     "output_type": "stream",
     "text": [
      "8 parks found near Howe El.\n",
      "1 parks found near Eisenhower El.\n",
      "5 parks found near Nicolet El.\n",
      "5 parks found near Sullivan El.\n",
      "3 parks found near Jefferson El.\n",
      "1 parks found near Danz El.\n",
      "6 parks found near Fort Howard El.\n",
      "0 parks found near Lincoln El.\n",
      "1 parks found near Elmore El.\n",
      "2 parks found near Keller El.\n",
      "0 parks found near Doty El.\n",
      "2 parks found near Chappell El.\n",
      "1 parks found near Martin El.\n",
      "2 parks found near Baird El.\n",
      "1 parks found near Beaumont El.\n",
      "2 parks found near Tank El.\n",
      "3 parks found near Jackson El.\n",
      "0 parks found near King El.\n",
      "1 parks found near Wilder El.\n",
      "2 parks found near Webster El.\n",
      "4 parks found near Kennedy El.\n",
      "1 parks found near Langlade El.\n",
      "0 parks found near Wequiock El.\n",
      "2 parks found near MacArthur El.\n",
      "1 parks found near McAuliffe El.\n"
     ]
    }
   ],
   "source": [
    "parks = pd.DataFrame(columns=['id','name','categories','location.lat','location.lng','NearSchool','Distance','Rating'])\n",
    "for row in plot_df.index:\n",
    "    df = get_parks(plot_df,row)\n",
    "    parks = parks.append(df)"
   ]
  },
  {
   "cell_type": "code",
   "execution_count": 47,
   "metadata": {},
   "outputs": [],
   "source": [
    "parks.reset_index(drop=True, inplace=True)"
   ]
  },
  {
   "cell_type": "markdown",
   "metadata": {},
   "source": [
    "Now, let's see where those parks are on the map. We'll plot the schools again, then plot each of the parks with a purple dot."
   ]
  },
  {
   "cell_type": "code",
   "execution_count": 48,
   "metadata": {},
   "outputs": [
    {
     "data": {
      "text/html": [
       "<div style=\"width:100%;\"><div style=\"position:relative;width:100%;height:0;padding-bottom:60%;\"><iframe src=\"about:blank\" style=\"position:absolute;width:100%;height:100%;left:0;top:0;border:none !important;\" data-html=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 onload=\"this.contentDocument.open();this.contentDocument.write(atob(this.getAttribute('data-html')));this.contentDocument.close();\" allowfullscreen webkitallowfullscreen mozallowfullscreen></iframe></div></div>"
      ],
      "text/plain": [
       "<folium.folium.Map at 0x25bf76e5dc8>"
      ]
     },
     "execution_count": 48,
     "metadata": {},
     "output_type": "execute_result"
    }
   ],
   "source": [
    "map = folium.Map(location=coordinates('Green Bay, WI'), zoom_start=12, tiles='Stamen Toner')\n",
    "for i,row in plot_df.iterrows():\n",
    "    folium.CircleMarker((row['Latitude'],row['Longitude']),\n",
    "                         radius=15,\n",
    "                         color=row['MarkerColor'],\n",
    "                         fill=True,\n",
    "                         alpha=1,\n",
    "                        popup=str(row['SCHOOL']+': '+str(round(row['AvgScore'],1)))).add_to(map)\n",
    "for i,row in parks.iterrows():\n",
    "    folium.CircleMarker((row['location.lat'],row['location.lng']),\n",
    "                        radius=5,\n",
    "                        color='purple',\n",
    "                        fill=True,\n",
    "                        alpha=1,\n",
    "                        popup=str(row['name']+': '+str(row['Rating']))).add_to(map)\n",
    "map"
   ]
  },
  {
   "cell_type": "markdown",
   "metadata": {},
   "source": [
    "Interesting, there appear to be lots of parks near the low-scoring schools. Let's inspect the park data."
   ]
  },
  {
   "cell_type": "code",
   "execution_count": 50,
   "metadata": {},
   "outputs": [
    {
     "data": {
      "text/html": [
       "<div>\n",
       "<style scoped>\n",
       "    .dataframe tbody tr th:only-of-type {\n",
       "        vertical-align: middle;\n",
       "    }\n",
       "\n",
       "    .dataframe tbody tr th {\n",
       "        vertical-align: top;\n",
       "    }\n",
       "\n",
       "    .dataframe thead th {\n",
       "        text-align: right;\n",
       "    }\n",
       "</style>\n",
       "<table border=\"1\" class=\"dataframe\">\n",
       "  <thead>\n",
       "    <tr style=\"text-align: right;\">\n",
       "      <th></th>\n",
       "      <th>id</th>\n",
       "      <th>name</th>\n",
       "      <th>categories</th>\n",
       "      <th>location.lat</th>\n",
       "      <th>location.lng</th>\n",
       "      <th>NearSchool</th>\n",
       "      <th>Distance</th>\n",
       "      <th>Rating</th>\n",
       "    </tr>\n",
       "  </thead>\n",
       "  <tbody>\n",
       "    <tr>\n",
       "      <td>count</td>\n",
       "      <td>54</td>\n",
       "      <td>54</td>\n",
       "      <td>54</td>\n",
       "      <td>54.000000</td>\n",
       "      <td>54.000000</td>\n",
       "      <td>54</td>\n",
       "      <td>54.000000</td>\n",
       "      <td>54</td>\n",
       "    </tr>\n",
       "    <tr>\n",
       "      <td>unique</td>\n",
       "      <td>39</td>\n",
       "      <td>38</td>\n",
       "      <td>1</td>\n",
       "      <td>NaN</td>\n",
       "      <td>NaN</td>\n",
       "      <td>21</td>\n",
       "      <td>NaN</td>\n",
       "      <td>6</td>\n",
       "    </tr>\n",
       "    <tr>\n",
       "      <td>top</td>\n",
       "      <td>5016dddee4b0c3d592c0acb0</td>\n",
       "      <td>John Muir Park</td>\n",
       "      <td>Park</td>\n",
       "      <td>NaN</td>\n",
       "      <td>NaN</td>\n",
       "      <td>Howe El</td>\n",
       "      <td>NaN</td>\n",
       "      <td>no rating</td>\n",
       "    </tr>\n",
       "    <tr>\n",
       "      <td>freq</td>\n",
       "      <td>3</td>\n",
       "      <td>4</td>\n",
       "      <td>54</td>\n",
       "      <td>NaN</td>\n",
       "      <td>NaN</td>\n",
       "      <td>8</td>\n",
       "      <td>NaN</td>\n",
       "      <td>48</td>\n",
       "    </tr>\n",
       "    <tr>\n",
       "      <td>mean</td>\n",
       "      <td>NaN</td>\n",
       "      <td>NaN</td>\n",
       "      <td>NaN</td>\n",
       "      <td>44.510249</td>\n",
       "      <td>-88.018229</td>\n",
       "      <td>NaN</td>\n",
       "      <td>713.718109</td>\n",
       "      <td>NaN</td>\n",
       "    </tr>\n",
       "    <tr>\n",
       "      <td>std</td>\n",
       "      <td>NaN</td>\n",
       "      <td>NaN</td>\n",
       "      <td>NaN</td>\n",
       "      <td>0.015470</td>\n",
       "      <td>0.037852</td>\n",
       "      <td>NaN</td>\n",
       "      <td>356.611566</td>\n",
       "      <td>NaN</td>\n",
       "    </tr>\n",
       "    <tr>\n",
       "      <td>min</td>\n",
       "      <td>NaN</td>\n",
       "      <td>NaN</td>\n",
       "      <td>NaN</td>\n",
       "      <td>44.461471</td>\n",
       "      <td>-88.087044</td>\n",
       "      <td>NaN</td>\n",
       "      <td>64.232900</td>\n",
       "      <td>NaN</td>\n",
       "    </tr>\n",
       "    <tr>\n",
       "      <td>25%</td>\n",
       "      <td>NaN</td>\n",
       "      <td>NaN</td>\n",
       "      <td>NaN</td>\n",
       "      <td>44.502508</td>\n",
       "      <td>-88.048328</td>\n",
       "      <td>NaN</td>\n",
       "      <td>444.986696</td>\n",
       "      <td>NaN</td>\n",
       "    </tr>\n",
       "    <tr>\n",
       "      <td>50%</td>\n",
       "      <td>NaN</td>\n",
       "      <td>NaN</td>\n",
       "      <td>NaN</td>\n",
       "      <td>44.510766</td>\n",
       "      <td>-88.017159</td>\n",
       "      <td>NaN</td>\n",
       "      <td>744.354502</td>\n",
       "      <td>NaN</td>\n",
       "    </tr>\n",
       "    <tr>\n",
       "      <td>75%</td>\n",
       "      <td>NaN</td>\n",
       "      <td>NaN</td>\n",
       "      <td>NaN</td>\n",
       "      <td>44.518741</td>\n",
       "      <td>-87.995321</td>\n",
       "      <td>NaN</td>\n",
       "      <td>1010.581398</td>\n",
       "      <td>NaN</td>\n",
       "    </tr>\n",
       "    <tr>\n",
       "      <td>max</td>\n",
       "      <td>NaN</td>\n",
       "      <td>NaN</td>\n",
       "      <td>NaN</td>\n",
       "      <td>44.545891</td>\n",
       "      <td>-87.932667</td>\n",
       "      <td>NaN</td>\n",
       "      <td>1399.410413</td>\n",
       "      <td>NaN</td>\n",
       "    </tr>\n",
       "  </tbody>\n",
       "</table>\n",
       "</div>"
      ],
      "text/plain": [
       "                              id            name categories  location.lat  \\\n",
       "count                         54              54         54     54.000000   \n",
       "unique                        39              38          1           NaN   \n",
       "top     5016dddee4b0c3d592c0acb0  John Muir Park       Park           NaN   \n",
       "freq                           3               4         54           NaN   \n",
       "mean                         NaN             NaN        NaN     44.510249   \n",
       "std                          NaN             NaN        NaN      0.015470   \n",
       "min                          NaN             NaN        NaN     44.461471   \n",
       "25%                          NaN             NaN        NaN     44.502508   \n",
       "50%                          NaN             NaN        NaN     44.510766   \n",
       "75%                          NaN             NaN        NaN     44.518741   \n",
       "max                          NaN             NaN        NaN     44.545891   \n",
       "\n",
       "        location.lng NearSchool     Distance     Rating  \n",
       "count      54.000000         54    54.000000         54  \n",
       "unique           NaN         21          NaN          6  \n",
       "top              NaN    Howe El          NaN  no rating  \n",
       "freq             NaN          8          NaN         48  \n",
       "mean      -88.018229        NaN   713.718109        NaN  \n",
       "std         0.037852        NaN   356.611566        NaN  \n",
       "min       -88.087044        NaN    64.232900        NaN  \n",
       "25%       -88.048328        NaN   444.986696        NaN  \n",
       "50%       -88.017159        NaN   744.354502        NaN  \n",
       "75%       -87.995321        NaN  1010.581398        NaN  \n",
       "max       -87.932667        NaN  1399.410413        NaN  "
      ]
     },
     "execution_count": 50,
     "metadata": {},
     "output_type": "execute_result"
    }
   ],
   "source": [
    "parks.describe(include='all')"
   ]
  },
  {
   "cell_type": "markdown",
   "metadata": {},
   "source": [
    "I see a few things that will need to be cleaned up during the next week. \n",
    "* There are more IDs than Names, probably meaning some parks are duplicated in the Foursquare database. Duplicates will need to be removed\n",
    "* Howe, the lowest scoring school, has the most parks. Will this still be true once duplicates are removed?\n",
    "* 48 parks do not have a rating. This feature won't work for modeling."
   ]
  },
  {
   "cell_type": "markdown",
   "metadata": {},
   "source": [
    "Since most parks are not rated, I'll need to look elsewhere for data describing park characteristics. Perhaps the Green Bay Department of Parks, Recreation and Forestry website will have more information."
   ]
  },
  {
   "cell_type": "markdown",
   "metadata": {},
   "source": [
    "Thanks for reviewing my notebook. I look forward to your feedback."
   ]
  },
  {
   "cell_type": "code",
   "execution_count": null,
   "metadata": {},
   "outputs": [],
   "source": []
  }
 ],
 "metadata": {
  "kernelspec": {
   "display_name": "Python 3",
   "language": "python",
   "name": "python3"
  },
  "language_info": {
   "codemirror_mode": {
    "name": "ipython",
    "version": 3
   },
   "file_extension": ".py",
   "mimetype": "text/x-python",
   "name": "python",
   "nbconvert_exporter": "python",
   "pygments_lexer": "ipython3",
   "version": "3.7.4"
  }
 },
 "nbformat": 4,
 "nbformat_minor": 4
}
